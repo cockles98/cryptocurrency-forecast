{
 "cells": [
  {
   "cell_type": "markdown",
   "id": "4656ecdf",
   "metadata": {
    "jp-MarkdownHeadingCollapsed": true,
    "tags": []
   },
   "source": [
    "# Install and import dependences"
   ]
  },
  {
   "cell_type": "code",
   "execution_count": null,
   "id": "871bfa4a",
   "metadata": {},
   "outputs": [],
   "source": [
    "#!pip install --upgrade python-binance tensorflow"
   ]
  },
  {
   "cell_type": "code",
   "execution_count": 2,
   "id": "5fcfc5be",
   "metadata": {
    "tags": []
   },
   "outputs": [],
   "source": [
    "from binance.client import Client\n",
    "from binance import BinanceSocketManager\n",
    "import pandas as pd\n",
    "import datetime as dt\n",
    "import numpy as np\n",
    "import matplotlib.pyplot as plt\n",
    "import seaborn as sns\n",
    "import pandas as pd\n",
    "import tensorflow as tf\n",
    "from tensorflow.keras.models import Sequential\n",
    "from tensorflow.keras.layers import Dense, SimpleRNN\n",
    "from sklearn.metrics import mean_squared_error, confusion_matrix"
   ]
  },
  {
   "cell_type": "markdown",
   "id": "ae4a0c29",
   "metadata": {
    "jp-MarkdownHeadingCollapsed": true,
    "tags": []
   },
   "source": [
    "# Load data"
   ]
  },
  {
   "cell_type": "code",
   "execution_count": 19,
   "id": "8b304ae9",
   "metadata": {
    "tags": []
   },
   "outputs": [],
   "source": [
    "api_key = \"imuSkmeAI4PpxNERZRcnzx6nEkReEhuLedZphxZNphhnUPLR4QH61aXfjnBqUtfH\"\n",
    "api_secret = \"56AvdFdOWWoRF20rh6Knq8awDYM145luMDH0XvDMkSD6nffbRwYTCrsxwJmyVLK1\"\n",
    "client = Client(api_key, api_secret)"
   ]
  },
  {
   "cell_type": "code",
   "execution_count": 20,
   "id": "c012907c",
   "metadata": {
    "tags": []
   },
   "outputs": [],
   "source": [
    "#Get the exchange info, which contains information about all trading pairs\n",
    "exchange_info = client.get_exchange_info()\n",
    "\n",
    "#Extract the symbols of all trading pairs\n",
    "symbols = [symbol['symbol'] for symbol in exchange_info['symbols'] if \"BRL\" in symbol['symbol']]\n",
    "\n",
    "#Filter out only the base cryptocurrencies (e.g., BTC, ETH)\n",
    "symbols = list(symbol.split(' ')[0] for symbol in symbols)"
   ]
  },
  {
   "cell_type": "code",
   "execution_count": 21,
   "id": "e417abd7",
   "metadata": {
    "tags": []
   },
   "outputs": [],
   "source": [
    "# Function to fetch historical cryptocurrency data\n",
    "def fetch_binance_cryptocurrency_data(symbol, start_date, end_date, interval='1d'):\n",
    "    klines = client.get_historical_klines(symbol, interval, start_date, end_date)\n",
    "\n",
    "    # Convert data to a Pandas DataFrame\n",
    "    df = pd.DataFrame(klines, columns=['timestamp', 'open', 'high', 'low', 'close', 'volume', 'close_time', 'quote_asset_volume', 'number_of_trades', 'taker_buy_base_asset_volume', 'taker_buy_quote_asset_volume', 'ignore'])\n",
    "    df['timestamp'] = pd.to_datetime(df['timestamp'], unit='ms')  # Convert timestamp to datetime\n",
    "\n",
    "    return df[['timestamp', 'open', 'high', 'low', 'close', 'volume']]\n",
    "\n",
    "database = {}\n",
    "present_day = dt.date.today()\n",
    "start_date = '1900-01-01'\n",
    "end_date = f\"{present_day}\"\n",
    "for ticker in symbols:\n",
    "    data = fetch_binance_cryptocurrency_data(ticker, start_date, end_date)\n",
    "    database[ticker] = data.close.values.astype(float)"
   ]
  },
  {
   "cell_type": "code",
   "execution_count": null,
   "id": "fa74d385-2628-4c2a-816e-c6c893acbf14",
   "metadata": {},
   "outputs": [],
   "source": [
    "# Save data to CSV\n",
    "for ticker, data in database.items():\n",
    "    filename = f\"{ticker}_data.csv\"\n",
    "    data.to_csv(filename, index=False)\n",
    "    print(f\"Data saved to {filename}\")"
   ]
  },
  {
   "cell_type": "markdown",
   "id": "8a8f8913",
   "metadata": {
    "tags": []
   },
   "source": [
    "# Functions"
   ]
  },
  {
   "cell_type": "markdown",
   "id": "8983692b-2530-45b1-8a7e-7968aab9d4f8",
   "metadata": {},
   "source": [
    "Model functions"
   ]
  },
  {
   "cell_type": "code",
   "execution_count": 22,
   "id": "6983879e",
   "metadata": {
    "tags": []
   },
   "outputs": [],
   "source": [
    "def model_1(price: list, look_back: int = 11, epochs: int = 500, ticker: str = None, plot_graph: bool = True):\n",
    "    # Prepare data\n",
    "    X = []\n",
    "    y = []\n",
    "    for i in range(len(price) - look_back):\n",
    "        X.append(price[i:i+look_back])\n",
    "        y.append(price[i+look_back])\n",
    "    X = np.array(X)\n",
    "    y = np.array(y)\n",
    "    X = X.reshape(X.shape[0], X.shape[1], 1)\n",
    "  \n",
    "    # Split data\n",
    "    size = len(X)-2\n",
    "    X_train, X_test = X[:size], X[size:]\n",
    "    y_train, y_test = y[:size], y[size:]\n",
    "    \n",
    "    # Create & train model\n",
    "    model = Sequential([\n",
    "        SimpleRNN(32, activation='relu', input_shape=(look_back, 1), return_sequences=True),\n",
    "        SimpleRNN(32, activation='relu', return_sequences=True),\n",
    "        SimpleRNN(32, activation='relu', return_sequences=True),\n",
    "        SimpleRNN(32, activation='relu', return_sequences=True),\n",
    "        SimpleRNN(32, activation='relu', return_sequences=False),\n",
    "        Dense(1)\n",
    "    ])\n",
    "    model.compile(optimizer='adam', loss='mse')\n",
    "    model.fit(X, y, epochs=epochs, verbose=0)\n",
    "    \n",
    "    # Predict & evaluate\n",
    "    pred = model.predict(X_test, verbose=0)\n",
    "    loss = model.evaluate(X_test, y_test, verbose=0)\n",
    "    print('Loss:', loss)\n",
    "    \n",
    "    '''\n",
    "    X_test = y[-look_back:]\n",
    "    pred1 = model.predict(X_test.reshape(1,look_back,1))\n",
    "    new_x_test = pred1[0][0]\n",
    "    X_test = np.append(X_test,new_x_test)\n",
    "    pred2 = model.predict(X_test[-look_back:].reshape(1,look_back,1))\n",
    "    '''\n",
    "    \n",
    "    # Set desired variables\n",
    "    last_price = y_train[-1]\n",
    "    pred1 = pred[0][0]\n",
    "    pred2 = pred[1][0]\n",
    "    status = y_train[-1] < pred1 <= pred2 or (y_train[-1] < pred2 < pred1 and (pred1-pred2) <= pred1*0.0025) or (pred1 < y_train[-1] < pred2 and (y_train[-1]-pred1) <= pred1*0.0025)\n",
    "    true_price1, true_price2 = y_test[0], y_test[1]\n",
    "    \n",
    "    if plot_graph:\n",
    "        # Plot dataset + predictions\n",
    "        fig, (ax1, ax2) = plt.subplots(1, 2, figsize=(12, 6))\n",
    "        ax1.plot(np.append(y_train, y_test), label='True Price')\n",
    "        ax1.plot(np.arange(len(y_train), len(y_train) + len(pred)), pred, label='Predictions')\n",
    "        ax1.set_xlabel('Time')\n",
    "        ax1.set_ylabel('Price')\n",
    "        ax1.set_title(f'{ticker} Stock Price Prediction')\n",
    "        ax1.legend()\n",
    "\n",
    "        ax2.plot(np.append(y_train[-1], y_test), label='True Price')\n",
    "        ax2.plot(np.arange(len(y_test) - 1, len(y_test) + 1), pred, label='Predictions')\n",
    "        ax2.set_xlabel('Time')\n",
    "        ax2.set_ylabel('Price')\n",
    "        ax2.set_title(f'{ticker} Stock Price Prediction')\n",
    "        ax2.legend()\n",
    "\n",
    "        plt.tight_layout()\n",
    "        plt.show()\n",
    "    \n",
    "    return status, last_price, pred1, pred2, true_price1, true_price2"
   ]
  },
  {
   "cell_type": "code",
   "execution_count": 23,
   "id": "fdb4890a-d4ce-44f2-a476-c3e86d482f02",
   "metadata": {
    "tags": []
   },
   "outputs": [],
   "source": [
    "def model_2(price: list, look_back: int = 11, epochs: int = 500, ticker: str = None, plot_graph: bool = True):\n",
    "    # Prepare data\n",
    "    X = []\n",
    "    y = []\n",
    "    for i in range(len(price) - look_back):\n",
    "        X.append(price[i:i+look_back])\n",
    "        y.append(price[i+look_back])\n",
    "    X = np.array(X)\n",
    "    y = np.array(y)\n",
    "    X = X.reshape(X.shape[0], X.shape[1], 1)\n",
    "  \n",
    "    # Split data\n",
    "    size = len(X)-2\n",
    "    X_train, X_test = X[:size], X[size:]\n",
    "    y_train, y_test = y[:size], y[size:]\n",
    "    \n",
    "    # Create & train model\n",
    "    model = Sequential([\n",
    "        SimpleRNN(32, activation='relu', input_shape=(look_back, 1), return_sequences=True),\n",
    "        SimpleRNN(32, activation='relu', return_sequences=True),\n",
    "        SimpleRNN(32, activation='relu', return_sequences=True),\n",
    "        SimpleRNN(32, activation='relu', return_sequences=True),\n",
    "        SimpleRNN(32, activation='relu', return_sequences=False),\n",
    "        Dense(1)\n",
    "    ])\n",
    "    model.compile(optimizer='adam', loss='mae')\n",
    "    model.fit(X, y, epochs=epochs, verbose=0)\n",
    "    \n",
    "    # Predict & evaluate\n",
    "    pred = model.predict(X_test, verbose=0)\n",
    "    loss = model.evaluate(X_test, y_test, verbose=0)\n",
    "    print('Loss:', loss)\n",
    "    \n",
    "    '''\n",
    "    X_test = y[-look_back:]\n",
    "    pred1 = model.predict(X_test.reshape(1,look_back,1))\n",
    "    new_x_test = pred1[0][0]\n",
    "    X_test = np.append(X_test,new_x_test)\n",
    "    pred2 = model.predict(X_test[-look_back:].reshape(1,look_back,1))\n",
    "    '''\n",
    "    \n",
    "    # Set desired variables\n",
    "    last_price = y_train[-1]\n",
    "    pred1 = pred[0][0]\n",
    "    pred2 = pred[1][0]\n",
    "    status = y_train[-1] < pred1 <= pred2 or (y_train[-1] < pred2 < pred1 and (pred1-pred2) <= pred1*0.0025) or (pred1 < y_train[-1] < pred2 and (y_train[-1]-pred1) <= pred1*0.0025)\n",
    "    true_price1, true_price2 = y_test[0], y_test[1]\n",
    "    \n",
    "    if plot_graph:\n",
    "        # Plot dataset + predictions\n",
    "        fig, (ax1, ax2) = plt.subplots(1, 2, figsize=(12, 6))\n",
    "        ax1.plot(np.append(y_train, y_test), label='True Price')\n",
    "        ax1.plot(np.arange(len(y_train), len(y_train) + len(pred)), pred, label='Predictions')\n",
    "        ax1.set_xlabel('Time')\n",
    "        ax1.set_ylabel('Price')\n",
    "        ax1.set_title(f'{ticker} Stock Price Prediction')\n",
    "        ax1.legend()\n",
    "\n",
    "        ax2.plot(np.append(y_train[-1], y_test), label='True Price')\n",
    "        ax2.plot(np.arange(len(y_test) - 1, len(y_test) + 1), pred, label='Predictions')\n",
    "        ax2.set_xlabel('Time')\n",
    "        ax2.set_ylabel('Price')\n",
    "        ax2.set_title(f'{ticker} Stock Price Prediction')\n",
    "        ax2.legend()\n",
    "\n",
    "        plt.tight_layout()\n",
    "        plt.show()\n",
    "    \n",
    "    return status, last_price, pred1, pred2, true_price1, true_price2"
   ]
  },
  {
   "cell_type": "markdown",
   "id": "cda38da0-88de-4651-a258-d9728118086e",
   "metadata": {},
   "source": [
    "Other functions"
   ]
  },
  {
   "cell_type": "code",
   "execution_count": 24,
   "id": "72be6d34-971c-417b-b054-11fdd1c68c88",
   "metadata": {
    "tags": []
   },
   "outputs": [
    {
     "ename": "IndentationError",
     "evalue": "unexpected indent (3815154640.py, line 45)",
     "output_type": "error",
     "traceback": [
      "\u001b[1;36m  Cell \u001b[1;32mIn[24], line 45\u001b[1;36m\u001b[0m\n\u001b[1;33m    '|| CorrectModel: {:<1}'.format(act_status == ((true_price1 - last_price) > 0)))\u001b[0m\n\u001b[1;37m    ^\u001b[0m\n\u001b[1;31mIndentationError\u001b[0m\u001b[1;31m:\u001b[0m unexpected indent\n"
     ]
    }
   ],
   "source": [
    "def pred_eval(model_function, lb_list: list = [11], epochs: int = 100, ticker_list: list = symbols):\n",
    "    for lb in lb_list:\n",
    "        pred_status_list, true_status_list = [], []\n",
    "        last_price_list = []\n",
    "        pred_1_list, pred_2_list = [], []\n",
    "        count = 0\n",
    "        total_last_stock_price, total_gamble_stock_price = 0, 0\n",
    "        total_pred_stock_price, total_true_stock_price = 0, 0\n",
    "        total_proft = 0\n",
    "\n",
    "        for ticker in ticker_list:\n",
    "            count += 1\n",
    "            price = database[ticker]\n",
    "            act_status, last_price, pred1, pred2, true_price1, true_price2 = model_function(price, look_back = lb, epochs=epochs, ticker=ticker, plot_graph = False)\n",
    "            \n",
    "            pred_status_list.append(act_status)\n",
    "            last_price_list.append(last_price)\n",
    "            pred_1_list.append(pred1)\n",
    "            pred_2_list.append(pred2)\n",
    "\n",
    "            my_act_status = act_status\n",
    "            my_gamble = sell_price(last_price, pred1, pred2)\n",
    "            gamble_proft = my_gamble/last_price\n",
    "            sold_status = check_sold(my_gamble, true_price1)\n",
    "\n",
    "            if my_gamble/last_price < 1.0008 and my_act_status == True: \n",
    "                my_act_status = False\n",
    "            if my_act_status == False: \n",
    "                sold_status = None\n",
    "                gamble_proft = None\n",
    "\n",
    "            print('{:<1} '.format(count), \n",
    "                  '{:<8} -'.format(ticker), \n",
    "                  'LastPrice: {:<10}'.format(round(float(last_price), 3)), \n",
    "                  '/ Pred1: {:<10}'.format(round(float(pred1), 3)), \n",
    "                  '/ Pred2: {:<10}'.format(round(float(pred2), 3)), \n",
    "                  '/ TruePrice1: {:<10}'.format(round(float(true_price1), 3)), \n",
    "                  '/ TruePrice2: {:<10}'.format(round(float(true_price2), 3)), \n",
    "                  '|| ActStatus: {:<1}'.format(act_status), \n",
    "                  '/ MyActStatus: {:<1}'.format(my_act_status), \n",
    "                  '/ SoldStatus: {:<1}'.format(sold_status if sold_status is not None else ''), \n",
    "                  '/ MyGamble: {:<11}'.format(round(float(my_gamble), 2)), \n",
    "                  '/ GambleProft: {:<5}'.format(round(float(gamble_proft), 3) if gamble_proft is not None else ''), \n",
    "                  '/ TrueProft: {:<5}'.format(round(true_price1/last_price), 3) if gamble_proft is not None else ''),\n",
    "                  '|| CorrectModel: {:<1}'.format(act_status == ((true_price1 - last_price) > 0)))\n",
    "                            \n",
    "\n",
    "            true_proft = true_price1 - last_price\n",
    "            if act_status:\n",
    "                total_last_stock_price += last_price\n",
    "                total_pred_stock_price += pred1\n",
    "                total_gamble_stock_price += my_gamble\n",
    "                total_true_stock_price += true_price1\n",
    "            if true_proft > 0:\n",
    "                true_status_list.append(True)\n",
    "            if true_proft <= 0:\n",
    "                true_status_list.append(False)\n",
    "\n",
    "        if not total_last_stock_price == 0:\n",
    "            print('\\nPred proft %:', total_pred_stock_price / total_last_stock_price)\n",
    "            print('Gamble proft %:', total_gamble_stock_price / total_last_stock_price)\n",
    "            print('True proft %:', total_true_stock_price / total_last_stock_price)\n",
    "        if total_last_stock_price == 0:\n",
    "            print('\\nAll False')\n",
    "\n",
    "        print('\\nLook_back:', lb)\n",
    "        index = my_confusion_matrix(true_status_list, pred_status_list)\n",
    "        for i in index:\n",
    "            print(symbols[i])"
   ]
  },
  {
   "cell_type": "code",
   "execution_count": null,
   "id": "734846d5",
   "metadata": {
    "tags": []
   },
   "outputs": [],
   "source": [
    "def my_confusion_matrix(true_status: list, pred_status: list):\n",
    "    cm = confusion_matrix(true_status, pred_status)\n",
    "    labels = ['True Negatives', 'False Positives', 'False Negatives', 'True Positives']\n",
    "    cm = cm.reshape((2, 2))\n",
    "    \n",
    "    # Print indices where true and pred statuses are False and True respectively\n",
    "    false_true_indices = []\n",
    "    for i in range(len(true_status)):\n",
    "        if true_status[i] == False and pred_status[i] == True:\n",
    "            false_true_indices.append(i)\n",
    "    \n",
    "    # Calculate accuracy\n",
    "    accuracy = (cm[0,0] + cm[1,1]) / np.sum(cm)\n",
    "    print(\"CM accuracy:\", accuracy)\n",
    "    \n",
    "    # Plot confusion matrix\n",
    "    plt.figure(figsize=(8, 6))\n",
    "    sns.set(font_scale=1.4)  # Adjust font size\n",
    "    sns.heatmap(cm, annot=True, fmt='d', cmap='Blues', xticklabels=['Negative', 'Positive'], yticklabels=['Negative', 'Positive'])\n",
    "    plt.xlabel('Predicted')\n",
    "    plt.ylabel('True')\n",
    "    plt.title('Confusion Matrix')\n",
    "    plt.show()\n",
    "    \n",
    "    return false_true_indices "
   ]
  },
  {
   "cell_type": "code",
   "execution_count": null,
   "id": "2b745f1a-df30-4afa-816c-3e8abd0e9edb",
   "metadata": {
    "tags": []
   },
   "outputs": [],
   "source": [
    "def sell_price(last_value, pred1, pred2, margin = 0.001):\n",
    "    'Optmize the sell price'\n",
    "    if pred1 <= last_value and abs(last_value - pred1) <= (pred1*0.0025):\n",
    "        return last_value\n",
    "    \n",
    "    if (pred1 - (pred1*margin)) <= last_value:\n",
    "        return last_value\n",
    "    \n",
    "    if pred2/pred1 >= 1.05:\n",
    "        if pred1/last_value > 1.02:\n",
    "            return last_value * 1.02\n",
    "        return pred1 + (pred1 * margin)\n",
    "    \n",
    "    if pred2/pred1 >= 1.01:\n",
    "        if pred1/last_value > 1.02:\n",
    "            return last_value * 1.02\n",
    "        return pred1\n",
    "\n",
    "    else:\n",
    "        return pred1 - (pred1 * margin)"
   ]
  },
  {
   "cell_type": "code",
   "execution_count": null,
   "id": "150848ed-e326-4ae3-a252-52d69ad9bd77",
   "metadata": {
    "tags": []
   },
   "outputs": [],
   "source": [
    "def check_sold(gamble, true_price, margin = 0.002):\n",
    "    'Check if the gamble price was sold'\n",
    "    return gamble <= true_price + (true_price * margin)"
   ]
  },
  {
   "cell_type": "markdown",
   "id": "51f2973f",
   "metadata": {
    "tags": []
   },
   "source": [
    "# Predictions & Evaluate"
   ]
  },
  {
   "cell_type": "code",
   "execution_count": 17,
   "id": "d4d7bc37-19d4-4b74-abac-03f75a9cd64e",
   "metadata": {
    "tags": []
   },
   "outputs": [
    {
     "name": "stdout",
     "output_type": "stream",
     "text": [
      "WARNING:tensorflow:6 out of the last 6 calls to <function Model.make_predict_function.<locals>.predict_function at 0x00000187A09D8C20> triggered tf.function retracing. Tracing is expensive and the excessive number of tracings could be due to (1) creating @tf.function repeatedly in a loop, (2) passing tensors with different shapes, (3) passing Python objects instead of tensors. For (1), please define your @tf.function outside of the loop. For (2), @tf.function has reduce_retracing=True option that can avoid unnecessary retracing. For (3), please refer to https://www.tensorflow.org/guide/function#controlling_retracing and https://www.tensorflow.org/api_docs/python/tf/function for  more details.\n",
      "WARNING:tensorflow:6 out of the last 6 calls to <function Model.make_test_function.<locals>.test_function at 0x00000187A0E039C0> triggered tf.function retracing. Tracing is expensive and the excessive number of tracings could be due to (1) creating @tf.function repeatedly in a loop, (2) passing tensors with different shapes, (3) passing Python objects instead of tensors. For (1), please define your @tf.function outside of the loop. For (2), @tf.function has reduce_retracing=True option that can avoid unnecessary retracing. For (3), please refer to https://www.tensorflow.org/guide/function#controlling_retracing and https://www.tensorflow.org/api_docs/python/tf/function for  more details.\n",
      "Loss: 45927920.0\n",
      "1  BTCBRL   - LastPrice: 343050.0    / Pred1: 334914.3438 / Pred2: 347368.4688 / TruePrice1: 344444.0    / TruePrice2: 348389.0    || ActStatus: 0 / MyActStatus: 0 / SoldStatus:   / MyGamble: 343050.0    / GambleProft:        || CorrectModel: 0\n",
      "Loss: 0.00026463059475645423\n",
      "2  USDTBRL  - LastPrice: 5.036       / Pred1: 5.041       / Pred2: 5.048       / TruePrice1: 5.042       / TruePrice2: 5.025       || ActStatus: 1 / MyActStatus: 0 / SoldStatus:   / MyGamble: 5.04        / GambleProft:        || CorrectModel: 1\n",
      "Loss: 76671.2421875\n",
      "3  ETHBRL   - LastPrice: 19556.48    / Pred1: 20073.1992  / Pred2: 19691.6523  / TruePrice1: 19691.93    / TruePrice2: 19780.96    || ActStatus: 0 / MyActStatus: 0 / SoldStatus:   / MyGamble: 20053.13    / GambleProft:        || CorrectModel: 0\n",
      "\n",
      "Pred proft %: 1.0009976584727658\n",
      "Gamble proft %: 1.0\n",
      "True proft %: 1.0011914217633042\n",
      "\n",
      "Look_back: 11\n",
      "CM accuracy: 0.3333333333333333\n"
     ]
    },
    {
     "data": {
      "image/png": "[encoded data removed]",
      "text/plain": [
       "<Figure size 800x600 with 2 Axes>"
      ]
     },
     "metadata": {},
     "output_type": "display_data"
    }
   ],
   "source": [
    "pred_eval(model_1, epochs = 2400, lb_list = [11], ticker_list = symbols[:3])"
   ]
  },
  {
   "cell_type": "code",
   "execution_count": 14,
   "id": "bff4f246-defe-4f16-8ad5-e41a76589f6e",
   "metadata": {
    "tags": []
   },
   "outputs": [
    {
     "name": "stdout",
     "output_type": "stream",
     "text": [
      "Loss: 9271761.0\n",
      "1  BTCBRL   - LastPrice: 343050.0    / Pred1: 343027.9062 / Pred2: 344322.2812 / TruePrice1: 344444.0    / TruePrice2: 348389.0    || ActStatus: 1 / MyActStatus: 0 / SoldStatus:   / MyGamble: 343050.0    / GambleProft:        || CorrectModel: 1\n"
     ]
    },
    {
     "ename": "KeyboardInterrupt",
     "evalue": "",
     "output_type": "error",
     "traceback": [
      "\u001b[1;31m---------------------------------------------------------------------------\u001b[0m",
      "\u001b[1;31mKeyboardInterrupt\u001b[0m                         Traceback (most recent call last)",
      "Cell \u001b[1;32mIn[14], line 1\u001b[0m\n\u001b[1;32m----> 1\u001b[0m pred_eval(model_1, epochs \u001b[38;5;241m=\u001b[39m \u001b[38;5;241m2350\u001b[39m, lb_list \u001b[38;5;241m=\u001b[39m [\u001b[38;5;241m11\u001b[39m], ticker_list \u001b[38;5;241m=\u001b[39m symbols[:\u001b[38;5;241m2\u001b[39m])\n",
      "Cell \u001b[1;32mIn[8], line 14\u001b[0m, in \u001b[0;36mpred_eval\u001b[1;34m(model_function, lb_list, epochs, ticker_list)\u001b[0m\n\u001b[0;32m     12\u001b[0m count \u001b[38;5;241m+\u001b[39m\u001b[38;5;241m=\u001b[39m \u001b[38;5;241m1\u001b[39m\n\u001b[0;32m     13\u001b[0m price \u001b[38;5;241m=\u001b[39m database[ticker]\n\u001b[1;32m---> 14\u001b[0m act_status, last_price, pred1, pred2, true_price1, true_price2 \u001b[38;5;241m=\u001b[39m model_function(price, look_back \u001b[38;5;241m=\u001b[39m lb, epochs\u001b[38;5;241m=\u001b[39mepochs, ticker\u001b[38;5;241m=\u001b[39mticker, plot_graph \u001b[38;5;241m=\u001b[39m \u001b[38;5;28;01mFalse\u001b[39;00m)\n\u001b[0;32m     16\u001b[0m pred_status_list\u001b[38;5;241m.\u001b[39mappend(act_status)\n\u001b[0;32m     17\u001b[0m last_price_list\u001b[38;5;241m.\u001b[39mappend(last_price)\n",
      "Cell \u001b[1;32mIn[6], line 27\u001b[0m, in \u001b[0;36mmodel_1\u001b[1;34m(price, look_back, epochs, ticker, plot_graph)\u001b[0m\n\u001b[0;32m     18\u001b[0m model \u001b[38;5;241m=\u001b[39m Sequential([\n\u001b[0;32m     19\u001b[0m     SimpleRNN(\u001b[38;5;241m32\u001b[39m, activation\u001b[38;5;241m=\u001b[39m\u001b[38;5;124m'\u001b[39m\u001b[38;5;124mrelu\u001b[39m\u001b[38;5;124m'\u001b[39m, input_shape\u001b[38;5;241m=\u001b[39m(look_back, \u001b[38;5;241m1\u001b[39m), return_sequences\u001b[38;5;241m=\u001b[39m\u001b[38;5;28;01mTrue\u001b[39;00m),\n\u001b[0;32m     20\u001b[0m     SimpleRNN(\u001b[38;5;241m32\u001b[39m, activation\u001b[38;5;241m=\u001b[39m\u001b[38;5;124m'\u001b[39m\u001b[38;5;124mrelu\u001b[39m\u001b[38;5;124m'\u001b[39m, return_sequences\u001b[38;5;241m=\u001b[39m\u001b[38;5;28;01mTrue\u001b[39;00m),\n\u001b[1;32m   (...)\u001b[0m\n\u001b[0;32m     24\u001b[0m     Dense(\u001b[38;5;241m1\u001b[39m)\n\u001b[0;32m     25\u001b[0m ])\n\u001b[0;32m     26\u001b[0m model\u001b[38;5;241m.\u001b[39mcompile(optimizer\u001b[38;5;241m=\u001b[39m\u001b[38;5;124m'\u001b[39m\u001b[38;5;124madam\u001b[39m\u001b[38;5;124m'\u001b[39m, loss\u001b[38;5;241m=\u001b[39m\u001b[38;5;124m'\u001b[39m\u001b[38;5;124mmse\u001b[39m\u001b[38;5;124m'\u001b[39m)\n\u001b[1;32m---> 27\u001b[0m model\u001b[38;5;241m.\u001b[39mfit(X, y, epochs\u001b[38;5;241m=\u001b[39mepochs, verbose\u001b[38;5;241m=\u001b[39m\u001b[38;5;241m0\u001b[39m)\n\u001b[0;32m     29\u001b[0m \u001b[38;5;66;03m# Predict & evaluate\u001b[39;00m\n\u001b[0;32m     30\u001b[0m pred \u001b[38;5;241m=\u001b[39m model\u001b[38;5;241m.\u001b[39mpredict(X_test, verbose\u001b[38;5;241m=\u001b[39m\u001b[38;5;241m0\u001b[39m)\n",
      "File \u001b[1;32m~\\anaconda3\\Lib\\site-packages\\keras\\src\\utils\\traceback_utils.py:65\u001b[0m, in \u001b[0;36mfilter_traceback.<locals>.error_handler\u001b[1;34m(*args, **kwargs)\u001b[0m\n\u001b[0;32m     63\u001b[0m filtered_tb \u001b[38;5;241m=\u001b[39m \u001b[38;5;28;01mNone\u001b[39;00m\n\u001b[0;32m     64\u001b[0m \u001b[38;5;28;01mtry\u001b[39;00m:\n\u001b[1;32m---> 65\u001b[0m     \u001b[38;5;28;01mreturn\u001b[39;00m fn(\u001b[38;5;241m*\u001b[39margs, \u001b[38;5;241m*\u001b[39m\u001b[38;5;241m*\u001b[39mkwargs)\n\u001b[0;32m     66\u001b[0m \u001b[38;5;28;01mexcept\u001b[39;00m \u001b[38;5;167;01mException\u001b[39;00m \u001b[38;5;28;01mas\u001b[39;00m e:\n\u001b[0;32m     67\u001b[0m     filtered_tb \u001b[38;5;241m=\u001b[39m _process_traceback_frames(e\u001b[38;5;241m.\u001b[39m__traceback__)\n",
      "File \u001b[1;32m~\\anaconda3\\Lib\\site-packages\\keras\\src\\engine\\training.py:1742\u001b[0m, in \u001b[0;36mModel.fit\u001b[1;34m(self, x, y, batch_size, epochs, verbose, callbacks, validation_split, validation_data, shuffle, class_weight, sample_weight, initial_epoch, steps_per_epoch, validation_steps, validation_batch_size, validation_freq, max_queue_size, workers, use_multiprocessing)\u001b[0m\n\u001b[0;32m   1734\u001b[0m \u001b[38;5;28;01mwith\u001b[39;00m tf\u001b[38;5;241m.\u001b[39mprofiler\u001b[38;5;241m.\u001b[39mexperimental\u001b[38;5;241m.\u001b[39mTrace(\n\u001b[0;32m   1735\u001b[0m     \u001b[38;5;124m\"\u001b[39m\u001b[38;5;124mtrain\u001b[39m\u001b[38;5;124m\"\u001b[39m,\n\u001b[0;32m   1736\u001b[0m     epoch_num\u001b[38;5;241m=\u001b[39mepoch,\n\u001b[1;32m   (...)\u001b[0m\n\u001b[0;32m   1739\u001b[0m     _r\u001b[38;5;241m=\u001b[39m\u001b[38;5;241m1\u001b[39m,\n\u001b[0;32m   1740\u001b[0m ):\n\u001b[0;32m   1741\u001b[0m     callbacks\u001b[38;5;241m.\u001b[39mon_train_batch_begin(step)\n\u001b[1;32m-> 1742\u001b[0m     tmp_logs \u001b[38;5;241m=\u001b[39m \u001b[38;5;28mself\u001b[39m\u001b[38;5;241m.\u001b[39mtrain_function(iterator)\n\u001b[0;32m   1743\u001b[0m     \u001b[38;5;28;01mif\u001b[39;00m data_handler\u001b[38;5;241m.\u001b[39mshould_sync:\n\u001b[0;32m   1744\u001b[0m         context\u001b[38;5;241m.\u001b[39masync_wait()\n",
      "File \u001b[1;32m~\\anaconda3\\Lib\\site-packages\\tensorflow\\python\\util\\traceback_utils.py:150\u001b[0m, in \u001b[0;36mfilter_traceback.<locals>.error_handler\u001b[1;34m(*args, **kwargs)\u001b[0m\n\u001b[0;32m    148\u001b[0m filtered_tb \u001b[38;5;241m=\u001b[39m \u001b[38;5;28;01mNone\u001b[39;00m\n\u001b[0;32m    149\u001b[0m \u001b[38;5;28;01mtry\u001b[39;00m:\n\u001b[1;32m--> 150\u001b[0m   \u001b[38;5;28;01mreturn\u001b[39;00m fn(\u001b[38;5;241m*\u001b[39margs, \u001b[38;5;241m*\u001b[39m\u001b[38;5;241m*\u001b[39mkwargs)\n\u001b[0;32m    151\u001b[0m \u001b[38;5;28;01mexcept\u001b[39;00m \u001b[38;5;167;01mException\u001b[39;00m \u001b[38;5;28;01mas\u001b[39;00m e:\n\u001b[0;32m    152\u001b[0m   filtered_tb \u001b[38;5;241m=\u001b[39m _process_traceback_frames(e\u001b[38;5;241m.\u001b[39m__traceback__)\n",
      "File \u001b[1;32m~\\anaconda3\\Lib\\site-packages\\tensorflow\\python\\eager\\polymorphic_function\\polymorphic_function.py:825\u001b[0m, in \u001b[0;36mFunction.__call__\u001b[1;34m(self, *args, **kwds)\u001b[0m\n\u001b[0;32m    822\u001b[0m compiler \u001b[38;5;241m=\u001b[39m \u001b[38;5;124m\"\u001b[39m\u001b[38;5;124mxla\u001b[39m\u001b[38;5;124m\"\u001b[39m \u001b[38;5;28;01mif\u001b[39;00m \u001b[38;5;28mself\u001b[39m\u001b[38;5;241m.\u001b[39m_jit_compile \u001b[38;5;28;01melse\u001b[39;00m \u001b[38;5;124m\"\u001b[39m\u001b[38;5;124mnonXla\u001b[39m\u001b[38;5;124m\"\u001b[39m\n\u001b[0;32m    824\u001b[0m \u001b[38;5;28;01mwith\u001b[39;00m OptionalXlaContext(\u001b[38;5;28mself\u001b[39m\u001b[38;5;241m.\u001b[39m_jit_compile):\n\u001b[1;32m--> 825\u001b[0m   result \u001b[38;5;241m=\u001b[39m \u001b[38;5;28mself\u001b[39m\u001b[38;5;241m.\u001b[39m_call(\u001b[38;5;241m*\u001b[39margs, \u001b[38;5;241m*\u001b[39m\u001b[38;5;241m*\u001b[39mkwds)\n\u001b[0;32m    827\u001b[0m new_tracing_count \u001b[38;5;241m=\u001b[39m \u001b[38;5;28mself\u001b[39m\u001b[38;5;241m.\u001b[39mexperimental_get_tracing_count()\n\u001b[0;32m    828\u001b[0m without_tracing \u001b[38;5;241m=\u001b[39m (tracing_count \u001b[38;5;241m==\u001b[39m new_tracing_count)\n",
      "File \u001b[1;32m~\\anaconda3\\Lib\\site-packages\\tensorflow\\python\\eager\\polymorphic_function\\polymorphic_function.py:857\u001b[0m, in \u001b[0;36mFunction._call\u001b[1;34m(self, *args, **kwds)\u001b[0m\n\u001b[0;32m    854\u001b[0m   \u001b[38;5;28mself\u001b[39m\u001b[38;5;241m.\u001b[39m_lock\u001b[38;5;241m.\u001b[39mrelease()\n\u001b[0;32m    855\u001b[0m   \u001b[38;5;66;03m# In this case we have created variables on the first call, so we run the\u001b[39;00m\n\u001b[0;32m    856\u001b[0m   \u001b[38;5;66;03m# defunned version which is guaranteed to never create variables.\u001b[39;00m\n\u001b[1;32m--> 857\u001b[0m   \u001b[38;5;28;01mreturn\u001b[39;00m \u001b[38;5;28mself\u001b[39m\u001b[38;5;241m.\u001b[39m_no_variable_creation_fn(\u001b[38;5;241m*\u001b[39margs, \u001b[38;5;241m*\u001b[39m\u001b[38;5;241m*\u001b[39mkwds)  \u001b[38;5;66;03m# pylint: disable=not-callable\u001b[39;00m\n\u001b[0;32m    858\u001b[0m \u001b[38;5;28;01melif\u001b[39;00m \u001b[38;5;28mself\u001b[39m\u001b[38;5;241m.\u001b[39m_variable_creation_fn \u001b[38;5;129;01mis\u001b[39;00m \u001b[38;5;129;01mnot\u001b[39;00m \u001b[38;5;28;01mNone\u001b[39;00m:\n\u001b[0;32m    859\u001b[0m   \u001b[38;5;66;03m# Release the lock early so that multiple threads can perform the call\u001b[39;00m\n\u001b[0;32m    860\u001b[0m   \u001b[38;5;66;03m# in parallel.\u001b[39;00m\n\u001b[0;32m    861\u001b[0m   \u001b[38;5;28mself\u001b[39m\u001b[38;5;241m.\u001b[39m_lock\u001b[38;5;241m.\u001b[39mrelease()\n",
      "File \u001b[1;32m~\\anaconda3\\Lib\\site-packages\\tensorflow\\python\\eager\\polymorphic_function\\tracing_compiler.py:148\u001b[0m, in \u001b[0;36mTracingCompiler.__call__\u001b[1;34m(self, *args, **kwargs)\u001b[0m\n\u001b[0;32m    145\u001b[0m \u001b[38;5;28;01mwith\u001b[39;00m \u001b[38;5;28mself\u001b[39m\u001b[38;5;241m.\u001b[39m_lock:\n\u001b[0;32m    146\u001b[0m   (concrete_function,\n\u001b[0;32m    147\u001b[0m    filtered_flat_args) \u001b[38;5;241m=\u001b[39m \u001b[38;5;28mself\u001b[39m\u001b[38;5;241m.\u001b[39m_maybe_define_function(args, kwargs)\n\u001b[1;32m--> 148\u001b[0m \u001b[38;5;28;01mreturn\u001b[39;00m concrete_function\u001b[38;5;241m.\u001b[39m_call_flat(\n\u001b[0;32m    149\u001b[0m     filtered_flat_args, captured_inputs\u001b[38;5;241m=\u001b[39mconcrete_function\u001b[38;5;241m.\u001b[39mcaptured_inputs)\n",
      "File \u001b[1;32m~\\anaconda3\\Lib\\site-packages\\tensorflow\\python\\eager\\polymorphic_function\\monomorphic_function.py:1349\u001b[0m, in \u001b[0;36mConcreteFunction._call_flat\u001b[1;34m(self, args, captured_inputs)\u001b[0m\n\u001b[0;32m   1345\u001b[0m possible_gradient_type \u001b[38;5;241m=\u001b[39m gradients_util\u001b[38;5;241m.\u001b[39mPossibleTapeGradientTypes(args)\n\u001b[0;32m   1346\u001b[0m \u001b[38;5;28;01mif\u001b[39;00m (possible_gradient_type \u001b[38;5;241m==\u001b[39m gradients_util\u001b[38;5;241m.\u001b[39mPOSSIBLE_GRADIENT_TYPES_NONE\n\u001b[0;32m   1347\u001b[0m     \u001b[38;5;129;01mand\u001b[39;00m executing_eagerly):\n\u001b[0;32m   1348\u001b[0m   \u001b[38;5;66;03m# No tape is watching; skip to running the function.\u001b[39;00m\n\u001b[1;32m-> 1349\u001b[0m   \u001b[38;5;28;01mreturn\u001b[39;00m \u001b[38;5;28mself\u001b[39m\u001b[38;5;241m.\u001b[39m_build_call_outputs(\u001b[38;5;28mself\u001b[39m\u001b[38;5;241m.\u001b[39m_inference_function(\u001b[38;5;241m*\u001b[39margs))\n\u001b[0;32m   1350\u001b[0m forward_backward \u001b[38;5;241m=\u001b[39m \u001b[38;5;28mself\u001b[39m\u001b[38;5;241m.\u001b[39m_select_forward_and_backward_functions(\n\u001b[0;32m   1351\u001b[0m     args,\n\u001b[0;32m   1352\u001b[0m     possible_gradient_type,\n\u001b[0;32m   1353\u001b[0m     executing_eagerly)\n\u001b[0;32m   1354\u001b[0m forward_function, args_with_tangents \u001b[38;5;241m=\u001b[39m forward_backward\u001b[38;5;241m.\u001b[39mforward()\n",
      "File \u001b[1;32m~\\anaconda3\\Lib\\site-packages\\tensorflow\\python\\eager\\polymorphic_function\\atomic_function.py:196\u001b[0m, in \u001b[0;36mAtomicFunction.__call__\u001b[1;34m(self, *args)\u001b[0m\n\u001b[0;32m    194\u001b[0m \u001b[38;5;28;01mwith\u001b[39;00m record\u001b[38;5;241m.\u001b[39mstop_recording():\n\u001b[0;32m    195\u001b[0m   \u001b[38;5;28;01mif\u001b[39;00m \u001b[38;5;28mself\u001b[39m\u001b[38;5;241m.\u001b[39m_bound_context\u001b[38;5;241m.\u001b[39mexecuting_eagerly():\n\u001b[1;32m--> 196\u001b[0m     outputs \u001b[38;5;241m=\u001b[39m \u001b[38;5;28mself\u001b[39m\u001b[38;5;241m.\u001b[39m_bound_context\u001b[38;5;241m.\u001b[39mcall_function(\n\u001b[0;32m    197\u001b[0m         \u001b[38;5;28mself\u001b[39m\u001b[38;5;241m.\u001b[39mname,\n\u001b[0;32m    198\u001b[0m         \u001b[38;5;28mlist\u001b[39m(args),\n\u001b[0;32m    199\u001b[0m         \u001b[38;5;28mlen\u001b[39m(\u001b[38;5;28mself\u001b[39m\u001b[38;5;241m.\u001b[39mfunction_type\u001b[38;5;241m.\u001b[39mflat_outputs),\n\u001b[0;32m    200\u001b[0m     )\n\u001b[0;32m    201\u001b[0m   \u001b[38;5;28;01melse\u001b[39;00m:\n\u001b[0;32m    202\u001b[0m     outputs \u001b[38;5;241m=\u001b[39m make_call_op_in_graph(\u001b[38;5;28mself\u001b[39m, \u001b[38;5;28mlist\u001b[39m(args))\n",
      "File \u001b[1;32m~\\anaconda3\\Lib\\site-packages\\tensorflow\\python\\eager\\context.py:1457\u001b[0m, in \u001b[0;36mContext.call_function\u001b[1;34m(self, name, tensor_inputs, num_outputs)\u001b[0m\n\u001b[0;32m   1455\u001b[0m cancellation_context \u001b[38;5;241m=\u001b[39m cancellation\u001b[38;5;241m.\u001b[39mcontext()\n\u001b[0;32m   1456\u001b[0m \u001b[38;5;28;01mif\u001b[39;00m cancellation_context \u001b[38;5;129;01mis\u001b[39;00m \u001b[38;5;28;01mNone\u001b[39;00m:\n\u001b[1;32m-> 1457\u001b[0m   outputs \u001b[38;5;241m=\u001b[39m execute\u001b[38;5;241m.\u001b[39mexecute(\n\u001b[0;32m   1458\u001b[0m       name\u001b[38;5;241m.\u001b[39mdecode(\u001b[38;5;124m\"\u001b[39m\u001b[38;5;124mutf-8\u001b[39m\u001b[38;5;124m\"\u001b[39m),\n\u001b[0;32m   1459\u001b[0m       num_outputs\u001b[38;5;241m=\u001b[39mnum_outputs,\n\u001b[0;32m   1460\u001b[0m       inputs\u001b[38;5;241m=\u001b[39mtensor_inputs,\n\u001b[0;32m   1461\u001b[0m       attrs\u001b[38;5;241m=\u001b[39mattrs,\n\u001b[0;32m   1462\u001b[0m       ctx\u001b[38;5;241m=\u001b[39m\u001b[38;5;28mself\u001b[39m,\n\u001b[0;32m   1463\u001b[0m   )\n\u001b[0;32m   1464\u001b[0m \u001b[38;5;28;01melse\u001b[39;00m:\n\u001b[0;32m   1465\u001b[0m   outputs \u001b[38;5;241m=\u001b[39m execute\u001b[38;5;241m.\u001b[39mexecute_with_cancellation(\n\u001b[0;32m   1466\u001b[0m       name\u001b[38;5;241m.\u001b[39mdecode(\u001b[38;5;124m\"\u001b[39m\u001b[38;5;124mutf-8\u001b[39m\u001b[38;5;124m\"\u001b[39m),\n\u001b[0;32m   1467\u001b[0m       num_outputs\u001b[38;5;241m=\u001b[39mnum_outputs,\n\u001b[1;32m   (...)\u001b[0m\n\u001b[0;32m   1471\u001b[0m       cancellation_manager\u001b[38;5;241m=\u001b[39mcancellation_context,\n\u001b[0;32m   1472\u001b[0m   )\n",
      "File \u001b[1;32m~\\anaconda3\\Lib\\site-packages\\tensorflow\\python\\eager\\execute.py:53\u001b[0m, in \u001b[0;36mquick_execute\u001b[1;34m(op_name, num_outputs, inputs, attrs, ctx, name)\u001b[0m\n\u001b[0;32m     51\u001b[0m \u001b[38;5;28;01mtry\u001b[39;00m:\n\u001b[0;32m     52\u001b[0m   ctx\u001b[38;5;241m.\u001b[39mensure_initialized()\n\u001b[1;32m---> 53\u001b[0m   tensors \u001b[38;5;241m=\u001b[39m pywrap_tfe\u001b[38;5;241m.\u001b[39mTFE_Py_Execute(ctx\u001b[38;5;241m.\u001b[39m_handle, device_name, op_name,\n\u001b[0;32m     54\u001b[0m                                       inputs, attrs, num_outputs)\n\u001b[0;32m     55\u001b[0m \u001b[38;5;28;01mexcept\u001b[39;00m core\u001b[38;5;241m.\u001b[39m_NotOkStatusException \u001b[38;5;28;01mas\u001b[39;00m e:\n\u001b[0;32m     56\u001b[0m   \u001b[38;5;28;01mif\u001b[39;00m name \u001b[38;5;129;01mis\u001b[39;00m \u001b[38;5;129;01mnot\u001b[39;00m \u001b[38;5;28;01mNone\u001b[39;00m:\n",
      "\u001b[1;31mKeyboardInterrupt\u001b[0m: "
     ]
    }
   ],
   "source": [
    "pred_eval(model_1, epochs = 2350, lb_list = [11], ticker_list = symbols[:2])"
   ]
  },
  {
   "cell_type": "code",
   "execution_count": 15,
   "id": "e1010322-23b5-410a-940a-884cdc6ec8e2",
   "metadata": {
    "tags": []
   },
   "outputs": [
    {
     "name": "stdout",
     "output_type": "stream",
     "text": [
      "WARNING:tensorflow:5 out of the last 5 calls to <function Model.make_predict_function.<locals>.predict_function at 0x0000018798A5D4E0> triggered tf.function retracing. Tracing is expensive and the excessive number of tracings could be due to (1) creating @tf.function repeatedly in a loop, (2) passing tensors with different shapes, (3) passing Python objects instead of tensors. For (1), please define your @tf.function outside of the loop. For (2), @tf.function has reduce_retracing=True option that can avoid unnecessary retracing. For (3), please refer to https://www.tensorflow.org/guide/function#controlling_retracing and https://www.tensorflow.org/api_docs/python/tf/function for  more details.\n",
      "WARNING:tensorflow:5 out of the last 5 calls to <function Model.make_test_function.<locals>.test_function at 0x0000018798A5F380> triggered tf.function retracing. Tracing is expensive and the excessive number of tracings could be due to (1) creating @tf.function repeatedly in a loop, (2) passing tensors with different shapes, (3) passing Python objects instead of tensors. For (1), please define your @tf.function outside of the loop. For (2), @tf.function has reduce_retracing=True option that can avoid unnecessary retracing. For (3), please refer to https://www.tensorflow.org/guide/function#controlling_retracing and https://www.tensorflow.org/api_docs/python/tf/function for  more details.\n",
      "Loss: 17841982.0\n",
      "1  BTCBRL   - LastPrice: 343050.0    / Pred1: 350289.8438 / Pred2: 349618.0    / TruePrice1: 344444.0    / TruePrice2: 348389.0    || ActStatus: 1 / MyActStatus: 1 / SoldStatus: 0 / MyGamble: 349939.55   / GambleProft: 1.0201 || CorrectModel: 1\n"
     ]
    },
    {
     "ename": "KeyboardInterrupt",
     "evalue": "",
     "output_type": "error",
     "traceback": [
      "\u001b[1;31m---------------------------------------------------------------------------\u001b[0m",
      "\u001b[1;31mKeyboardInterrupt\u001b[0m                         Traceback (most recent call last)",
      "Cell \u001b[1;32mIn[15], line 1\u001b[0m\n\u001b[1;32m----> 1\u001b[0m pred_eval(model_1, epochs \u001b[38;5;241m=\u001b[39m \u001b[38;5;241m2410\u001b[39m, lb_list \u001b[38;5;241m=\u001b[39m [\u001b[38;5;241m11\u001b[39m], ticker_list \u001b[38;5;241m=\u001b[39m symbols[:\u001b[38;5;241m2\u001b[39m])\n",
      "Cell \u001b[1;32mIn[8], line 14\u001b[0m, in \u001b[0;36mpred_eval\u001b[1;34m(model_function, lb_list, epochs, ticker_list)\u001b[0m\n\u001b[0;32m     12\u001b[0m count \u001b[38;5;241m+\u001b[39m\u001b[38;5;241m=\u001b[39m \u001b[38;5;241m1\u001b[39m\n\u001b[0;32m     13\u001b[0m price \u001b[38;5;241m=\u001b[39m database[ticker]\n\u001b[1;32m---> 14\u001b[0m act_status, last_price, pred1, pred2, true_price1, true_price2 \u001b[38;5;241m=\u001b[39m model_function(price, look_back \u001b[38;5;241m=\u001b[39m lb, epochs\u001b[38;5;241m=\u001b[39mepochs, ticker\u001b[38;5;241m=\u001b[39mticker, plot_graph \u001b[38;5;241m=\u001b[39m \u001b[38;5;28;01mFalse\u001b[39;00m)\n\u001b[0;32m     16\u001b[0m pred_status_list\u001b[38;5;241m.\u001b[39mappend(act_status)\n\u001b[0;32m     17\u001b[0m last_price_list\u001b[38;5;241m.\u001b[39mappend(last_price)\n",
      "Cell \u001b[1;32mIn[6], line 27\u001b[0m, in \u001b[0;36mmodel_1\u001b[1;34m(price, look_back, epochs, ticker, plot_graph)\u001b[0m\n\u001b[0;32m     18\u001b[0m model \u001b[38;5;241m=\u001b[39m Sequential([\n\u001b[0;32m     19\u001b[0m     SimpleRNN(\u001b[38;5;241m32\u001b[39m, activation\u001b[38;5;241m=\u001b[39m\u001b[38;5;124m'\u001b[39m\u001b[38;5;124mrelu\u001b[39m\u001b[38;5;124m'\u001b[39m, input_shape\u001b[38;5;241m=\u001b[39m(look_back, \u001b[38;5;241m1\u001b[39m), return_sequences\u001b[38;5;241m=\u001b[39m\u001b[38;5;28;01mTrue\u001b[39;00m),\n\u001b[0;32m     20\u001b[0m     SimpleRNN(\u001b[38;5;241m32\u001b[39m, activation\u001b[38;5;241m=\u001b[39m\u001b[38;5;124m'\u001b[39m\u001b[38;5;124mrelu\u001b[39m\u001b[38;5;124m'\u001b[39m, return_sequences\u001b[38;5;241m=\u001b[39m\u001b[38;5;28;01mTrue\u001b[39;00m),\n\u001b[1;32m   (...)\u001b[0m\n\u001b[0;32m     24\u001b[0m     Dense(\u001b[38;5;241m1\u001b[39m)\n\u001b[0;32m     25\u001b[0m ])\n\u001b[0;32m     26\u001b[0m model\u001b[38;5;241m.\u001b[39mcompile(optimizer\u001b[38;5;241m=\u001b[39m\u001b[38;5;124m'\u001b[39m\u001b[38;5;124madam\u001b[39m\u001b[38;5;124m'\u001b[39m, loss\u001b[38;5;241m=\u001b[39m\u001b[38;5;124m'\u001b[39m\u001b[38;5;124mmse\u001b[39m\u001b[38;5;124m'\u001b[39m)\n\u001b[1;32m---> 27\u001b[0m model\u001b[38;5;241m.\u001b[39mfit(X, y, epochs\u001b[38;5;241m=\u001b[39mepochs, verbose\u001b[38;5;241m=\u001b[39m\u001b[38;5;241m0\u001b[39m)\n\u001b[0;32m     29\u001b[0m \u001b[38;5;66;03m# Predict & evaluate\u001b[39;00m\n\u001b[0;32m     30\u001b[0m pred \u001b[38;5;241m=\u001b[39m model\u001b[38;5;241m.\u001b[39mpredict(X_test, verbose\u001b[38;5;241m=\u001b[39m\u001b[38;5;241m0\u001b[39m)\n",
      "File \u001b[1;32m~\\anaconda3\\Lib\\site-packages\\keras\\src\\utils\\traceback_utils.py:65\u001b[0m, in \u001b[0;36mfilter_traceback.<locals>.error_handler\u001b[1;34m(*args, **kwargs)\u001b[0m\n\u001b[0;32m     63\u001b[0m filtered_tb \u001b[38;5;241m=\u001b[39m \u001b[38;5;28;01mNone\u001b[39;00m\n\u001b[0;32m     64\u001b[0m \u001b[38;5;28;01mtry\u001b[39;00m:\n\u001b[1;32m---> 65\u001b[0m     \u001b[38;5;28;01mreturn\u001b[39;00m fn(\u001b[38;5;241m*\u001b[39margs, \u001b[38;5;241m*\u001b[39m\u001b[38;5;241m*\u001b[39mkwargs)\n\u001b[0;32m     66\u001b[0m \u001b[38;5;28;01mexcept\u001b[39;00m \u001b[38;5;167;01mException\u001b[39;00m \u001b[38;5;28;01mas\u001b[39;00m e:\n\u001b[0;32m     67\u001b[0m     filtered_tb \u001b[38;5;241m=\u001b[39m _process_traceback_frames(e\u001b[38;5;241m.\u001b[39m__traceback__)\n",
      "File \u001b[1;32m~\\anaconda3\\Lib\\site-packages\\keras\\src\\engine\\training.py:1742\u001b[0m, in \u001b[0;36mModel.fit\u001b[1;34m(self, x, y, batch_size, epochs, verbose, callbacks, validation_split, validation_data, shuffle, class_weight, sample_weight, initial_epoch, steps_per_epoch, validation_steps, validation_batch_size, validation_freq, max_queue_size, workers, use_multiprocessing)\u001b[0m\n\u001b[0;32m   1734\u001b[0m \u001b[38;5;28;01mwith\u001b[39;00m tf\u001b[38;5;241m.\u001b[39mprofiler\u001b[38;5;241m.\u001b[39mexperimental\u001b[38;5;241m.\u001b[39mTrace(\n\u001b[0;32m   1735\u001b[0m     \u001b[38;5;124m\"\u001b[39m\u001b[38;5;124mtrain\u001b[39m\u001b[38;5;124m\"\u001b[39m,\n\u001b[0;32m   1736\u001b[0m     epoch_num\u001b[38;5;241m=\u001b[39mepoch,\n\u001b[1;32m   (...)\u001b[0m\n\u001b[0;32m   1739\u001b[0m     _r\u001b[38;5;241m=\u001b[39m\u001b[38;5;241m1\u001b[39m,\n\u001b[0;32m   1740\u001b[0m ):\n\u001b[0;32m   1741\u001b[0m     callbacks\u001b[38;5;241m.\u001b[39mon_train_batch_begin(step)\n\u001b[1;32m-> 1742\u001b[0m     tmp_logs \u001b[38;5;241m=\u001b[39m \u001b[38;5;28mself\u001b[39m\u001b[38;5;241m.\u001b[39mtrain_function(iterator)\n\u001b[0;32m   1743\u001b[0m     \u001b[38;5;28;01mif\u001b[39;00m data_handler\u001b[38;5;241m.\u001b[39mshould_sync:\n\u001b[0;32m   1744\u001b[0m         context\u001b[38;5;241m.\u001b[39masync_wait()\n",
      "File \u001b[1;32m~\\anaconda3\\Lib\\site-packages\\tensorflow\\python\\util\\traceback_utils.py:150\u001b[0m, in \u001b[0;36mfilter_traceback.<locals>.error_handler\u001b[1;34m(*args, **kwargs)\u001b[0m\n\u001b[0;32m    148\u001b[0m filtered_tb \u001b[38;5;241m=\u001b[39m \u001b[38;5;28;01mNone\u001b[39;00m\n\u001b[0;32m    149\u001b[0m \u001b[38;5;28;01mtry\u001b[39;00m:\n\u001b[1;32m--> 150\u001b[0m   \u001b[38;5;28;01mreturn\u001b[39;00m fn(\u001b[38;5;241m*\u001b[39margs, \u001b[38;5;241m*\u001b[39m\u001b[38;5;241m*\u001b[39mkwargs)\n\u001b[0;32m    151\u001b[0m \u001b[38;5;28;01mexcept\u001b[39;00m \u001b[38;5;167;01mException\u001b[39;00m \u001b[38;5;28;01mas\u001b[39;00m e:\n\u001b[0;32m    152\u001b[0m   filtered_tb \u001b[38;5;241m=\u001b[39m _process_traceback_frames(e\u001b[38;5;241m.\u001b[39m__traceback__)\n",
      "File \u001b[1;32m~\\anaconda3\\Lib\\site-packages\\tensorflow\\python\\eager\\polymorphic_function\\polymorphic_function.py:825\u001b[0m, in \u001b[0;36mFunction.__call__\u001b[1;34m(self, *args, **kwds)\u001b[0m\n\u001b[0;32m    822\u001b[0m compiler \u001b[38;5;241m=\u001b[39m \u001b[38;5;124m\"\u001b[39m\u001b[38;5;124mxla\u001b[39m\u001b[38;5;124m\"\u001b[39m \u001b[38;5;28;01mif\u001b[39;00m \u001b[38;5;28mself\u001b[39m\u001b[38;5;241m.\u001b[39m_jit_compile \u001b[38;5;28;01melse\u001b[39;00m \u001b[38;5;124m\"\u001b[39m\u001b[38;5;124mnonXla\u001b[39m\u001b[38;5;124m\"\u001b[39m\n\u001b[0;32m    824\u001b[0m \u001b[38;5;28;01mwith\u001b[39;00m OptionalXlaContext(\u001b[38;5;28mself\u001b[39m\u001b[38;5;241m.\u001b[39m_jit_compile):\n\u001b[1;32m--> 825\u001b[0m   result \u001b[38;5;241m=\u001b[39m \u001b[38;5;28mself\u001b[39m\u001b[38;5;241m.\u001b[39m_call(\u001b[38;5;241m*\u001b[39margs, \u001b[38;5;241m*\u001b[39m\u001b[38;5;241m*\u001b[39mkwds)\n\u001b[0;32m    827\u001b[0m new_tracing_count \u001b[38;5;241m=\u001b[39m \u001b[38;5;28mself\u001b[39m\u001b[38;5;241m.\u001b[39mexperimental_get_tracing_count()\n\u001b[0;32m    828\u001b[0m without_tracing \u001b[38;5;241m=\u001b[39m (tracing_count \u001b[38;5;241m==\u001b[39m new_tracing_count)\n",
      "File \u001b[1;32m~\\anaconda3\\Lib\\site-packages\\tensorflow\\python\\eager\\polymorphic_function\\polymorphic_function.py:857\u001b[0m, in \u001b[0;36mFunction._call\u001b[1;34m(self, *args, **kwds)\u001b[0m\n\u001b[0;32m    854\u001b[0m   \u001b[38;5;28mself\u001b[39m\u001b[38;5;241m.\u001b[39m_lock\u001b[38;5;241m.\u001b[39mrelease()\n\u001b[0;32m    855\u001b[0m   \u001b[38;5;66;03m# In this case we have created variables on the first call, so we run the\u001b[39;00m\n\u001b[0;32m    856\u001b[0m   \u001b[38;5;66;03m# defunned version which is guaranteed to never create variables.\u001b[39;00m\n\u001b[1;32m--> 857\u001b[0m   \u001b[38;5;28;01mreturn\u001b[39;00m \u001b[38;5;28mself\u001b[39m\u001b[38;5;241m.\u001b[39m_no_variable_creation_fn(\u001b[38;5;241m*\u001b[39margs, \u001b[38;5;241m*\u001b[39m\u001b[38;5;241m*\u001b[39mkwds)  \u001b[38;5;66;03m# pylint: disable=not-callable\u001b[39;00m\n\u001b[0;32m    858\u001b[0m \u001b[38;5;28;01melif\u001b[39;00m \u001b[38;5;28mself\u001b[39m\u001b[38;5;241m.\u001b[39m_variable_creation_fn \u001b[38;5;129;01mis\u001b[39;00m \u001b[38;5;129;01mnot\u001b[39;00m \u001b[38;5;28;01mNone\u001b[39;00m:\n\u001b[0;32m    859\u001b[0m   \u001b[38;5;66;03m# Release the lock early so that multiple threads can perform the call\u001b[39;00m\n\u001b[0;32m    860\u001b[0m   \u001b[38;5;66;03m# in parallel.\u001b[39;00m\n\u001b[0;32m    861\u001b[0m   \u001b[38;5;28mself\u001b[39m\u001b[38;5;241m.\u001b[39m_lock\u001b[38;5;241m.\u001b[39mrelease()\n",
      "File \u001b[1;32m~\\anaconda3\\Lib\\site-packages\\tensorflow\\python\\eager\\polymorphic_function\\tracing_compiler.py:148\u001b[0m, in \u001b[0;36mTracingCompiler.__call__\u001b[1;34m(self, *args, **kwargs)\u001b[0m\n\u001b[0;32m    145\u001b[0m \u001b[38;5;28;01mwith\u001b[39;00m \u001b[38;5;28mself\u001b[39m\u001b[38;5;241m.\u001b[39m_lock:\n\u001b[0;32m    146\u001b[0m   (concrete_function,\n\u001b[0;32m    147\u001b[0m    filtered_flat_args) \u001b[38;5;241m=\u001b[39m \u001b[38;5;28mself\u001b[39m\u001b[38;5;241m.\u001b[39m_maybe_define_function(args, kwargs)\n\u001b[1;32m--> 148\u001b[0m \u001b[38;5;28;01mreturn\u001b[39;00m concrete_function\u001b[38;5;241m.\u001b[39m_call_flat(\n\u001b[0;32m    149\u001b[0m     filtered_flat_args, captured_inputs\u001b[38;5;241m=\u001b[39mconcrete_function\u001b[38;5;241m.\u001b[39mcaptured_inputs)\n",
      "File \u001b[1;32m~\\anaconda3\\Lib\\site-packages\\tensorflow\\python\\eager\\polymorphic_function\\monomorphic_function.py:1349\u001b[0m, in \u001b[0;36mConcreteFunction._call_flat\u001b[1;34m(self, args, captured_inputs)\u001b[0m\n\u001b[0;32m   1345\u001b[0m possible_gradient_type \u001b[38;5;241m=\u001b[39m gradients_util\u001b[38;5;241m.\u001b[39mPossibleTapeGradientTypes(args)\n\u001b[0;32m   1346\u001b[0m \u001b[38;5;28;01mif\u001b[39;00m (possible_gradient_type \u001b[38;5;241m==\u001b[39m gradients_util\u001b[38;5;241m.\u001b[39mPOSSIBLE_GRADIENT_TYPES_NONE\n\u001b[0;32m   1347\u001b[0m     \u001b[38;5;129;01mand\u001b[39;00m executing_eagerly):\n\u001b[0;32m   1348\u001b[0m   \u001b[38;5;66;03m# No tape is watching; skip to running the function.\u001b[39;00m\n\u001b[1;32m-> 1349\u001b[0m   \u001b[38;5;28;01mreturn\u001b[39;00m \u001b[38;5;28mself\u001b[39m\u001b[38;5;241m.\u001b[39m_build_call_outputs(\u001b[38;5;28mself\u001b[39m\u001b[38;5;241m.\u001b[39m_inference_function(\u001b[38;5;241m*\u001b[39margs))\n\u001b[0;32m   1350\u001b[0m forward_backward \u001b[38;5;241m=\u001b[39m \u001b[38;5;28mself\u001b[39m\u001b[38;5;241m.\u001b[39m_select_forward_and_backward_functions(\n\u001b[0;32m   1351\u001b[0m     args,\n\u001b[0;32m   1352\u001b[0m     possible_gradient_type,\n\u001b[0;32m   1353\u001b[0m     executing_eagerly)\n\u001b[0;32m   1354\u001b[0m forward_function, args_with_tangents \u001b[38;5;241m=\u001b[39m forward_backward\u001b[38;5;241m.\u001b[39mforward()\n",
      "File \u001b[1;32m~\\anaconda3\\Lib\\site-packages\\tensorflow\\python\\eager\\polymorphic_function\\atomic_function.py:196\u001b[0m, in \u001b[0;36mAtomicFunction.__call__\u001b[1;34m(self, *args)\u001b[0m\n\u001b[0;32m    194\u001b[0m \u001b[38;5;28;01mwith\u001b[39;00m record\u001b[38;5;241m.\u001b[39mstop_recording():\n\u001b[0;32m    195\u001b[0m   \u001b[38;5;28;01mif\u001b[39;00m \u001b[38;5;28mself\u001b[39m\u001b[38;5;241m.\u001b[39m_bound_context\u001b[38;5;241m.\u001b[39mexecuting_eagerly():\n\u001b[1;32m--> 196\u001b[0m     outputs \u001b[38;5;241m=\u001b[39m \u001b[38;5;28mself\u001b[39m\u001b[38;5;241m.\u001b[39m_bound_context\u001b[38;5;241m.\u001b[39mcall_function(\n\u001b[0;32m    197\u001b[0m         \u001b[38;5;28mself\u001b[39m\u001b[38;5;241m.\u001b[39mname,\n\u001b[0;32m    198\u001b[0m         \u001b[38;5;28mlist\u001b[39m(args),\n\u001b[0;32m    199\u001b[0m         \u001b[38;5;28mlen\u001b[39m(\u001b[38;5;28mself\u001b[39m\u001b[38;5;241m.\u001b[39mfunction_type\u001b[38;5;241m.\u001b[39mflat_outputs),\n\u001b[0;32m    200\u001b[0m     )\n\u001b[0;32m    201\u001b[0m   \u001b[38;5;28;01melse\u001b[39;00m:\n\u001b[0;32m    202\u001b[0m     outputs \u001b[38;5;241m=\u001b[39m make_call_op_in_graph(\u001b[38;5;28mself\u001b[39m, \u001b[38;5;28mlist\u001b[39m(args))\n",
      "File \u001b[1;32m~\\anaconda3\\Lib\\site-packages\\tensorflow\\python\\eager\\context.py:1457\u001b[0m, in \u001b[0;36mContext.call_function\u001b[1;34m(self, name, tensor_inputs, num_outputs)\u001b[0m\n\u001b[0;32m   1455\u001b[0m cancellation_context \u001b[38;5;241m=\u001b[39m cancellation\u001b[38;5;241m.\u001b[39mcontext()\n\u001b[0;32m   1456\u001b[0m \u001b[38;5;28;01mif\u001b[39;00m cancellation_context \u001b[38;5;129;01mis\u001b[39;00m \u001b[38;5;28;01mNone\u001b[39;00m:\n\u001b[1;32m-> 1457\u001b[0m   outputs \u001b[38;5;241m=\u001b[39m execute\u001b[38;5;241m.\u001b[39mexecute(\n\u001b[0;32m   1458\u001b[0m       name\u001b[38;5;241m.\u001b[39mdecode(\u001b[38;5;124m\"\u001b[39m\u001b[38;5;124mutf-8\u001b[39m\u001b[38;5;124m\"\u001b[39m),\n\u001b[0;32m   1459\u001b[0m       num_outputs\u001b[38;5;241m=\u001b[39mnum_outputs,\n\u001b[0;32m   1460\u001b[0m       inputs\u001b[38;5;241m=\u001b[39mtensor_inputs,\n\u001b[0;32m   1461\u001b[0m       attrs\u001b[38;5;241m=\u001b[39mattrs,\n\u001b[0;32m   1462\u001b[0m       ctx\u001b[38;5;241m=\u001b[39m\u001b[38;5;28mself\u001b[39m,\n\u001b[0;32m   1463\u001b[0m   )\n\u001b[0;32m   1464\u001b[0m \u001b[38;5;28;01melse\u001b[39;00m:\n\u001b[0;32m   1465\u001b[0m   outputs \u001b[38;5;241m=\u001b[39m execute\u001b[38;5;241m.\u001b[39mexecute_with_cancellation(\n\u001b[0;32m   1466\u001b[0m       name\u001b[38;5;241m.\u001b[39mdecode(\u001b[38;5;124m\"\u001b[39m\u001b[38;5;124mutf-8\u001b[39m\u001b[38;5;124m\"\u001b[39m),\n\u001b[0;32m   1467\u001b[0m       num_outputs\u001b[38;5;241m=\u001b[39mnum_outputs,\n\u001b[1;32m   (...)\u001b[0m\n\u001b[0;32m   1471\u001b[0m       cancellation_manager\u001b[38;5;241m=\u001b[39mcancellation_context,\n\u001b[0;32m   1472\u001b[0m   )\n",
      "File \u001b[1;32m~\\anaconda3\\Lib\\site-packages\\tensorflow\\python\\eager\\execute.py:53\u001b[0m, in \u001b[0;36mquick_execute\u001b[1;34m(op_name, num_outputs, inputs, attrs, ctx, name)\u001b[0m\n\u001b[0;32m     51\u001b[0m \u001b[38;5;28;01mtry\u001b[39;00m:\n\u001b[0;32m     52\u001b[0m   ctx\u001b[38;5;241m.\u001b[39mensure_initialized()\n\u001b[1;32m---> 53\u001b[0m   tensors \u001b[38;5;241m=\u001b[39m pywrap_tfe\u001b[38;5;241m.\u001b[39mTFE_Py_Execute(ctx\u001b[38;5;241m.\u001b[39m_handle, device_name, op_name,\n\u001b[0;32m     54\u001b[0m                                       inputs, attrs, num_outputs)\n\u001b[0;32m     55\u001b[0m \u001b[38;5;28;01mexcept\u001b[39;00m core\u001b[38;5;241m.\u001b[39m_NotOkStatusException \u001b[38;5;28;01mas\u001b[39;00m e:\n\u001b[0;32m     56\u001b[0m   \u001b[38;5;28;01mif\u001b[39;00m name \u001b[38;5;129;01mis\u001b[39;00m \u001b[38;5;129;01mnot\u001b[39;00m \u001b[38;5;28;01mNone\u001b[39;00m:\n",
      "\u001b[1;31mKeyboardInterrupt\u001b[0m: "
     ]
    }
   ],
   "source": [
    "pred_eval(model_1, epochs = 2410, lb_list = [11], ticker_list = symbols[:2])"
   ]
  },
  {
   "cell_type": "code",
   "execution_count": 25,
   "id": "757c108b-10c0-4fa6-b21f-c76bac5a5453",
   "metadata": {
    "tags": []
   },
   "outputs": [
    {
     "name": "stdout",
     "output_type": "stream",
     "text": [
      "Loss: 5374601.0\n",
      "1  BTCBRL   - LastPrice: 343050.0    / Pred1: 343592.5    / Pred2: 344774.9062 / TruePrice1: 344444.0    / TruePrice2: 347941.0    || ActStatus: 1 / MyActStatus: 0 / SoldStatus:   / MyGamble: 343248.91   / GambleProft:        || CorrectModel: 1\n",
      "Loss: 0.0001646179152885452\n",
      "2  USDTBRL  - LastPrice: 5.036       / Pred1: 5.0243      / Pred2: 5.0312      / TruePrice1: 5.042       / TruePrice2: 5.027       || ActStatus: 0 / MyActStatus: 0 / SoldStatus:   / MyGamble: 5.04        / GambleProft:        || CorrectModel: 0\n",
      "Loss: 83239.65625\n",
      "3  ETHBRL   - LastPrice: 19556.48    / Pred1: 19383.5645  / Pred2: 19503.9902  / TruePrice1: 19691.93    / TruePrice2: 19771.18    || ActStatus: 0 / MyActStatus: 0 / SoldStatus:   / MyGamble: 19556.48    / GambleProft:        || CorrectModel: 0\n",
      "Loss: 747.4188842773438\n",
      "4  BNBBRL   - LastPrice: 2449.0      / Pred1: 2431.3152   / Pred2: 2459.8438   / TruePrice1: 2463.0      / TruePrice2: 2482.0      || ActStatus: 0 / MyActStatus: 0 / SoldStatus:   / MyGamble: 2449.0      / GambleProft:        || CorrectModel: 0\n",
      "Loss: 0.0008308273972943425\n",
      "5  BUSDBRL  - LastPrice: 4.973       / Pred1: 4.9522      / Pred2: 4.9586      / TruePrice1: 4.977       / TruePrice2: 4.991       || ActStatus: 0 / MyActStatus: 0 / SoldStatus:   / MyGamble: 4.97        / GambleProft:        || CorrectModel: 0\n",
      "Loss: 0.0002859556407202035\n",
      "6  XRPBRL   - LastPrice: 3.122       / Pred1: 3.1011      / Pred2: 3.1326      / TruePrice1: 3.125       / TruePrice2: 3.133       || ActStatus: 0 / MyActStatus: 0 / SoldStatus:   / MyGamble: 3.12        / GambleProft:        || CorrectModel: 0\n",
      "Loss: 0.569597601890564\n",
      "7  LINKBRL  - LastPrice: 99.19       / Pred1: 101.1626    / Pred2: 100.9657    / TruePrice1: 100.73      / TruePrice2: 99.99       || ActStatus: 1 / MyActStatus: 1 / SoldStatus: 0 / MyGamble: 101.06      / GambleProft: 1.0189 || CorrectModel: 1\n",
      "Loss: 150.2774200439453\n",
      "8  LTCBRL   - LastPrice: 444.2       / Pred1: 441.7161    / Pred2: 454.4897    / TruePrice1: 456.6       / TruePrice2: 445.6       || ActStatus: 0 / MyActStatus: 0 / SoldStatus:   / MyGamble: 444.2       / GambleProft:        || CorrectModel: 0\n",
      "Loss: 1.8295476138519007e-06\n",
      "9  DOGEBRL  - LastPrice: 0.8286      / Pred1: 0.8997      / Pred2: 0.884       / TruePrice1: 0.9016      / TruePrice2: 0.8839      || ActStatus: 0 / MyActStatus: 0 / SoldStatus:   / MyGamble: 0.9         / GambleProft:        || CorrectModel: 0\n",
      "Loss: 0.008684350177645683\n",
      "10  ADABRL   - LastPrice: 3.638       / Pred1: 3.8653      / Pred2: 3.7179      / TruePrice1: 3.74        / TruePrice2: 3.677       || ActStatus: 0 / MyActStatus: 0 / SoldStatus:   / MyGamble: 3.86        / GambleProft:        || CorrectModel: 0\n",
      "Loss: 0.0857904776930809\n",
      "11  DOTBRL   - LastPrice: 53.62       / Pred1: 52.6606     / Pred2: 52.1093     / TruePrice1: 52.91       / TruePrice2: 52.44       || ActStatus: 0 / MyActStatus: 0 / SoldStatus:   / MyGamble: 53.62       / GambleProft:        || CorrectModel: 1\n",
      "Loss: 4.299984357203357e-05\n",
      "12  CHZBRL   - LastPrice: 0.7723      / Pred1: 0.7807      / Pred2: 0.7778      / TruePrice1: 0.7807      / TruePrice2: 0.7871      || ActStatus: 0 / MyActStatus: 0 / SoldStatus:   / MyGamble: 0.78        / GambleProft:        || CorrectModel: 0\n",
      "Loss: 0.0002462661068420857\n",
      "13  ENJBRL   - LastPrice: 1.382       / Pred1: 1.3225      / Pred2: 1.3464      / TruePrice1: 1.31        / TruePrice2: 1.328       || ActStatus: 0 / MyActStatus: 0 / SoldStatus:   / MyGamble: 1.38        / GambleProft:        || CorrectModel: 1\n",
      "Loss: 4.919438190142955e-09\n",
      "14  BTTBRL   - LastPrice: 0.0141      / Pred1: 0.0149      / Pred2: 0.0155      / TruePrice1: 0.0149      / TruePrice2: 0.0155      || ActStatus: 1 / MyActStatus: 1 / SoldStatus: 1 / MyGamble: 0.01        / GambleProft: 1.02   || CorrectModel: 1\n",
      "Loss: 5.460753516040029e-10\n",
      "15  WINBRL   - LastPrice: 0.001       / Pred1: 0.001       / Pred2: 0.001       / TruePrice1: 0.001       / TruePrice2: 0.001       || ActStatus: 0 / MyActStatus: 0 / SoldStatus:   / MyGamble: 0.0         / GambleProft:        || CorrectModel: 0\n",
      "Loss: 1.2371432603686117e-05\n",
      "16  HOTBRL   - LastPrice: 0.0394      / Pred1: 0.0412      / Pred2: 0.0417      / TruePrice1: 0.0386      / TruePrice2: 0.0375      || ActStatus: 1 / MyActStatus: 1 / SoldStatus: 0 / MyGamble: 0.04        / GambleProft: 1.02   || CorrectModel: 0\n",
      "Loss: 1.5375866889953613\n",
      "17  ETCBRL   - LastPrice: 206.1       / Pred1: 202.5254    / Pred2: 200.6509    / TruePrice1: 202.4       / TruePrice2: 202.4       || ActStatus: 0 / MyActStatus: 0 / SoldStatus:   / MyGamble: 206.1       / GambleProft:        || CorrectModel: 1\n",
      "Loss: 0.0010065792594105005\n",
      "18  MATICBRL - LastPrice: 5.666       / Pred1: 5.7856      / Pred2: 5.9327      / TruePrice1: 5.827       / TruePrice2: 5.95        || ActStatus: 1 / MyActStatus: 1 / SoldStatus: 1 / MyGamble: 5.78        / GambleProft: 1.02   || CorrectModel: 1\n",
      "Loss: 2.1995699484023135e-08\n",
      "19  SHIBBRL  - LastPrice: 0.0002      / Pred1: 0.0         / Pred2: 0.0         / TruePrice1: 0.0002      / TruePrice2: 0.0002      || ActStatus: 0 / MyActStatus: 0 / SoldStatus:   / MyGamble: 0.0         / GambleProft:        || CorrectModel: 1\n",
      "Loss: 14.17049789428711\n",
      "20  SOLBRL   - LastPrice: 729.1       / Pred1: 729.6664    / Pred2: 736.6963    / TruePrice1: 726.4       / TruePrice2: 740.9       || ActStatus: 1 / MyActStatus: 0 / SoldStatus:   / MyGamble: 729.1       / GambleProft:        || CorrectModel: 0\n",
      "Loss: 0.33121827244758606\n",
      "21  CAKEBRL  - LastPrice: 67.57       / Pred1: 70.0259     / Pred2: 70.4782     / TruePrice1: 69.73       / TruePrice2: 69.72       || ActStatus: 1 / MyActStatus: 1 / SoldStatus: 0 / MyGamble: 69.96       / GambleProft: 1.0353 || CorrectModel: 1\n",
      "Loss: 1794.6617431640625\n",
      "22  AAVEBRL  - LastPrice: 1833.0      / Pred1: 1691.8849   / Pred2: 1801.7338   / TruePrice1: 1751.0      / TruePrice2: 1792.0      || ActStatus: 0 / MyActStatus: 0 / SoldStatus:   / MyGamble: 1833.0      / GambleProft:        || CorrectModel: 1\n",
      "Loss: 0.6684514284133911\n",
      "23  AXSBRL   - LastPrice: 38.71       / Pred1: 37.9324     / Pred2: 39.1776     / TruePrice1: 38.75       / TruePrice2: 38.36       || ActStatus: 0 / MyActStatus: 0 / SoldStatus:   / MyGamble: 38.71       / GambleProft:        || CorrectModel: 0\n",
      "Loss: 3.23400781780947e-05\n",
      "24  FISBRL   - LastPrice: 1.682       / Pred1: 1.786       / Pred2: 1.7817      / TruePrice1: 1.794       / TruePrice2: 1.781       || ActStatus: 1 / MyActStatus: 1 / SoldStatus: 1 / MyGamble: 1.78        / GambleProft: 1.0608 || CorrectModel: 1\n",
      "Loss: 0.0006228878628462553\n",
      "25  C98BRL   - LastPrice: 1.509       / Pred1: 1.3395      / Pred2: 1.3007      / TruePrice1: 1.305       / TruePrice2: 1.308       || ActStatus: 0 / MyActStatus: 0 / SoldStatus:   / MyGamble: 1.51        / GambleProft:        || CorrectModel: 1\n",
      "Loss: 8.994340896606445\n",
      "26  AVAXBRL  - LastPrice: 214.7       / Pred1: 215.7392    / Pred2: 213.7182    / TruePrice1: 217.2       / TruePrice2: 217.7       || ActStatus: 0 / MyActStatus: 0 / SoldStatus:   / MyGamble: 215.52      / GambleProft:        || CorrectModel: 0\n",
      "Loss: 0.0003465415502432734\n",
      "27  FTMBRL   - LastPrice: 1.889       / Pred1: 1.9153      / Pred2: 1.9482      / TruePrice1: 1.923       / TruePrice2: 1.923       || ActStatus: 1 / MyActStatus: 1 / SoldStatus: 1 / MyGamble: 1.92        / GambleProft: 1.0139 || CorrectModel: 1\n",
      "Loss: 0.0035808978136628866\n",
      "28  MANABRL  - LastPrice: 1.731       / Pred1: 1.7205      / Pred2: 1.675       / TruePrice1: 1.637       / TruePrice2: 1.661       || ActStatus: 0 / MyActStatus: 0 / SoldStatus:   / MyGamble: 1.73        / GambleProft:        || CorrectModel: 1\n",
      "Loss: 0.1056675910949707\n",
      "29  SANTOSBRL - LastPrice: 19.62       / Pred1: 20.0577     / Pred2: 19.6336     / TruePrice1: 19.78       / TruePrice2: 20.0        || ActStatus: 0 / MyActStatus: 0 / SoldStatus:   / MyGamble: 20.04       / GambleProft:        || CorrectModel: 0\n",
      "Loss: 4.659560363506898e-05\n",
      "30  GALABRL  - LastPrice: 0.2204      / Pred1: 0.292       / Pred2: 0.3211      / TruePrice1: 0.2828      / TruePrice2: 0.3182      || ActStatus: 1 / MyActStatus: 1 / SoldStatus: 1 / MyGamble: 0.22        / GambleProft: 1.02   || CorrectModel: 1\n",
      "Loss: 0.006715359166264534\n",
      "31  SANDBRL  - LastPrice: 1.862       / Pred1: 1.859       / Pred2: 1.8962      / TruePrice1: 1.785       / TruePrice2: 1.807       || ActStatus: 1 / MyActStatus: 0 / SoldStatus:   / MyGamble: 1.86        / GambleProft:        || CorrectModel: 0\n",
      "Loss: 1.101161241531372\n",
      "32  LUNABRL  - LastPrice: 5.7         / Pred1: 0.4028      / Pred2: -1.4285     / TruePrice1: 0.0017      / TruePrice2: 0.0003      || ActStatus: 0 / MyActStatus: 0 / SoldStatus:   / MyGamble: 5.7         / GambleProft:        || CorrectModel: 1\n",
      "Loss: 0.6712703704833984\n",
      "33  ATOMBRL  - LastPrice: 69.53       / Pred1: 66.2923     / Pred2: 65.4565     / TruePrice1: 67.03       / TruePrice2: 66.35       || ActStatus: 0 / MyActStatus: 0 / SoldStatus:   / MyGamble: 69.53       / GambleProft:        || CorrectModel: 1\n",
      "Loss: 0.001697905478067696\n",
      "34  GMTBRL   - LastPrice: 1.368       / Pred1: 1.3802      / Pred2: 1.2858      / TruePrice1: 1.337       / TruePrice2: 1.325       || ActStatus: 0 / MyActStatus: 0 / SoldStatus:   / MyGamble: 1.38        / GambleProft:        || CorrectModel: 1\n",
      "Loss: 0.003850220935419202\n",
      "35  APEBRL   - LastPrice: 22.52       / Pred1: 21.6899     / Pred2: 22.0728     / TruePrice1: 21.68       / TruePrice2: 22.16       || ActStatus: 0 / MyActStatus: 0 / SoldStatus:   / MyGamble: 22.52       / GambleProft:        || CorrectModel: 1\n",
      "Loss: 0.014978599734604359\n",
      "36  GALBRL   - LastPrice: 8.54        / Pred1: 8.6848      / Pred2: 8.8495      / TruePrice1: 8.72        / TruePrice2: 8.68        || ActStatus: 1 / MyActStatus: 1 / SoldStatus: 1 / MyGamble: 8.68        / GambleProft: 1.017  || CorrectModel: 1\n",
      "Loss: 0.21014949679374695\n",
      "37  APTBRL   - LastPrice: 40.42       / Pred1: 39.7697     / Pred2: 40.2699     / TruePrice1: 40.17       / TruePrice2: 39.76       || ActStatus: 0 / MyActStatus: 0 / SoldStatus:   / MyGamble: 40.42       / GambleProft:        || CorrectModel: 1\n",
      "\n",
      "Pred proft %: 1.001593067951246\n",
      "Gamble proft %: 1.0005917943880032\n",
      "True proft %: 1.0040570095046186\n",
      "\n",
      "Look_back: 11\n",
      "CM accuracy: 0.5675675675675675\n"
     ]
    },
    {
     "data": {
      "image/png": "[encoded data removed]",
      "text/plain": [
       "<Figure size 800x600 with 2 Axes>"
      ]
     },
     "metadata": {},
     "output_type": "display_data"
    },
    {
     "name": "stdout",
     "output_type": "stream",
     "text": [
      "HOTBRL\n",
      "SOLBRL\n",
      "SANDBRL\n"
     ]
    }
   ],
   "source": [
    "pred_eval(model_1, epochs = 2500, lb_list = [11], ticker_list = symbols)"
   ]
  },
  {
   "cell_type": "markdown",
   "id": "ab12222c",
   "metadata": {
    "jp-MarkdownHeadingCollapsed": true,
    "tags": []
   },
   "source": [
    "# Make a dataframe and save results"
   ]
  },
  {
   "cell_type": "code",
   "execution_count": 70,
   "id": "c620efcb-0870-4c5f-87c9-421e7d67d468",
   "metadata": {
    "tags": []
   },
   "outputs": [
    {
     "ename": "KeyboardInterrupt",
     "evalue": "",
     "output_type": "error",
     "traceback": [
      "\u001b[1;31m---------------------------------------------------------------------------\u001b[0m",
      "\u001b[1;31mKeyboardInterrupt\u001b[0m                         Traceback (most recent call last)",
      "Cell \u001b[1;32mIn[70], line 29\u001b[0m\n\u001b[0;32m     26\u001b[0m     \u001b[38;5;28;01mfor\u001b[39;00m process \u001b[38;5;129;01min\u001b[39;00m processes:\n\u001b[0;32m     27\u001b[0m         process\u001b[38;5;241m.\u001b[39mjoin()\n\u001b[1;32m---> 29\u001b[0m your_function()\n",
      "Cell \u001b[1;32mIn[70], line 7\u001b[0m, in \u001b[0;36myour_function\u001b[1;34m()\u001b[0m\n\u001b[0;32m      6\u001b[0m \u001b[38;5;28;01mdef\u001b[39;00m \u001b[38;5;21myour_function\u001b[39m():\n\u001b[1;32m----> 7\u001b[0m     pred_eval(model_1, epochs \u001b[38;5;241m=\u001b[39m \u001b[38;5;241m5000\u001b[39m, lb_list \u001b[38;5;241m=\u001b[39m [\u001b[38;5;241m11\u001b[39m], ticker_list \u001b[38;5;241m=\u001b[39m symbols[:\u001b[38;5;241m3\u001b[39m])\n",
      "Cell \u001b[1;32mIn[67], line 14\u001b[0m, in \u001b[0;36mpred_eval\u001b[1;34m(model_function, lb_list, epochs, ticker_list)\u001b[0m\n\u001b[0;32m     12\u001b[0m count \u001b[38;5;241m+\u001b[39m\u001b[38;5;241m=\u001b[39m \u001b[38;5;241m1\u001b[39m\n\u001b[0;32m     13\u001b[0m price \u001b[38;5;241m=\u001b[39m database[ticker]\n\u001b[1;32m---> 14\u001b[0m act_status, last_price, pred1, pred2, true_price1, true_price2 \u001b[38;5;241m=\u001b[39m model_function(price, look_back \u001b[38;5;241m=\u001b[39m lb, epochs\u001b[38;5;241m=\u001b[39mepochs, ticker\u001b[38;5;241m=\u001b[39mticker, plot_graph \u001b[38;5;241m=\u001b[39m \u001b[38;5;28;01mFalse\u001b[39;00m)\n\u001b[0;32m     16\u001b[0m pred_status_list\u001b[38;5;241m.\u001b[39mappend(act_status)\n\u001b[0;32m     17\u001b[0m last_price_list\u001b[38;5;241m.\u001b[39mappend(last_price)\n",
      "Cell \u001b[1;32mIn[9], line 27\u001b[0m, in \u001b[0;36mmodel_1\u001b[1;34m(price, look_back, epochs, ticker, plot_graph)\u001b[0m\n\u001b[0;32m     18\u001b[0m model \u001b[38;5;241m=\u001b[39m Sequential([\n\u001b[0;32m     19\u001b[0m     SimpleRNN(\u001b[38;5;241m32\u001b[39m, activation\u001b[38;5;241m=\u001b[39m\u001b[38;5;124m'\u001b[39m\u001b[38;5;124mrelu\u001b[39m\u001b[38;5;124m'\u001b[39m, input_shape\u001b[38;5;241m=\u001b[39m(look_back, \u001b[38;5;241m1\u001b[39m), return_sequences\u001b[38;5;241m=\u001b[39m\u001b[38;5;28;01mTrue\u001b[39;00m),\n\u001b[0;32m     20\u001b[0m     SimpleRNN(\u001b[38;5;241m32\u001b[39m, activation\u001b[38;5;241m=\u001b[39m\u001b[38;5;124m'\u001b[39m\u001b[38;5;124mrelu\u001b[39m\u001b[38;5;124m'\u001b[39m, return_sequences\u001b[38;5;241m=\u001b[39m\u001b[38;5;28;01mTrue\u001b[39;00m),\n\u001b[1;32m   (...)\u001b[0m\n\u001b[0;32m     24\u001b[0m     Dense(\u001b[38;5;241m1\u001b[39m)\n\u001b[0;32m     25\u001b[0m ])\n\u001b[0;32m     26\u001b[0m model\u001b[38;5;241m.\u001b[39mcompile(optimizer\u001b[38;5;241m=\u001b[39m\u001b[38;5;124m'\u001b[39m\u001b[38;5;124madam\u001b[39m\u001b[38;5;124m'\u001b[39m, loss\u001b[38;5;241m=\u001b[39m\u001b[38;5;124m'\u001b[39m\u001b[38;5;124mmse\u001b[39m\u001b[38;5;124m'\u001b[39m)\n\u001b[1;32m---> 27\u001b[0m model\u001b[38;5;241m.\u001b[39mfit(X, y, epochs\u001b[38;5;241m=\u001b[39mepochs, verbose\u001b[38;5;241m=\u001b[39m\u001b[38;5;241m0\u001b[39m)\n\u001b[0;32m     29\u001b[0m \u001b[38;5;66;03m# Predict & evaluate\u001b[39;00m\n\u001b[0;32m     30\u001b[0m pred \u001b[38;5;241m=\u001b[39m model\u001b[38;5;241m.\u001b[39mpredict(X_test, verbose\u001b[38;5;241m=\u001b[39m\u001b[38;5;241m0\u001b[39m)\n",
      "File \u001b[1;32m~\\anaconda3\\Lib\\site-packages\\keras\\src\\utils\\traceback_utils.py:65\u001b[0m, in \u001b[0;36mfilter_traceback.<locals>.error_handler\u001b[1;34m(*args, **kwargs)\u001b[0m\n\u001b[0;32m     63\u001b[0m filtered_tb \u001b[38;5;241m=\u001b[39m \u001b[38;5;28;01mNone\u001b[39;00m\n\u001b[0;32m     64\u001b[0m \u001b[38;5;28;01mtry\u001b[39;00m:\n\u001b[1;32m---> 65\u001b[0m     \u001b[38;5;28;01mreturn\u001b[39;00m fn(\u001b[38;5;241m*\u001b[39margs, \u001b[38;5;241m*\u001b[39m\u001b[38;5;241m*\u001b[39mkwargs)\n\u001b[0;32m     66\u001b[0m \u001b[38;5;28;01mexcept\u001b[39;00m \u001b[38;5;167;01mException\u001b[39;00m \u001b[38;5;28;01mas\u001b[39;00m e:\n\u001b[0;32m     67\u001b[0m     filtered_tb \u001b[38;5;241m=\u001b[39m _process_traceback_frames(e\u001b[38;5;241m.\u001b[39m__traceback__)\n",
      "File \u001b[1;32m~\\anaconda3\\Lib\\site-packages\\keras\\src\\engine\\training.py:1742\u001b[0m, in \u001b[0;36mModel.fit\u001b[1;34m(self, x, y, batch_size, epochs, verbose, callbacks, validation_split, validation_data, shuffle, class_weight, sample_weight, initial_epoch, steps_per_epoch, validation_steps, validation_batch_size, validation_freq, max_queue_size, workers, use_multiprocessing)\u001b[0m\n\u001b[0;32m   1734\u001b[0m \u001b[38;5;28;01mwith\u001b[39;00m tf\u001b[38;5;241m.\u001b[39mprofiler\u001b[38;5;241m.\u001b[39mexperimental\u001b[38;5;241m.\u001b[39mTrace(\n\u001b[0;32m   1735\u001b[0m     \u001b[38;5;124m\"\u001b[39m\u001b[38;5;124mtrain\u001b[39m\u001b[38;5;124m\"\u001b[39m,\n\u001b[0;32m   1736\u001b[0m     epoch_num\u001b[38;5;241m=\u001b[39mepoch,\n\u001b[1;32m   (...)\u001b[0m\n\u001b[0;32m   1739\u001b[0m     _r\u001b[38;5;241m=\u001b[39m\u001b[38;5;241m1\u001b[39m,\n\u001b[0;32m   1740\u001b[0m ):\n\u001b[0;32m   1741\u001b[0m     callbacks\u001b[38;5;241m.\u001b[39mon_train_batch_begin(step)\n\u001b[1;32m-> 1742\u001b[0m     tmp_logs \u001b[38;5;241m=\u001b[39m \u001b[38;5;28mself\u001b[39m\u001b[38;5;241m.\u001b[39mtrain_function(iterator)\n\u001b[0;32m   1743\u001b[0m     \u001b[38;5;28;01mif\u001b[39;00m data_handler\u001b[38;5;241m.\u001b[39mshould_sync:\n\u001b[0;32m   1744\u001b[0m         context\u001b[38;5;241m.\u001b[39masync_wait()\n",
      "File \u001b[1;32m~\\anaconda3\\Lib\\site-packages\\tensorflow\\python\\util\\traceback_utils.py:150\u001b[0m, in \u001b[0;36mfilter_traceback.<locals>.error_handler\u001b[1;34m(*args, **kwargs)\u001b[0m\n\u001b[0;32m    148\u001b[0m filtered_tb \u001b[38;5;241m=\u001b[39m \u001b[38;5;28;01mNone\u001b[39;00m\n\u001b[0;32m    149\u001b[0m \u001b[38;5;28;01mtry\u001b[39;00m:\n\u001b[1;32m--> 150\u001b[0m   \u001b[38;5;28;01mreturn\u001b[39;00m fn(\u001b[38;5;241m*\u001b[39margs, \u001b[38;5;241m*\u001b[39m\u001b[38;5;241m*\u001b[39mkwargs)\n\u001b[0;32m    151\u001b[0m \u001b[38;5;28;01mexcept\u001b[39;00m \u001b[38;5;167;01mException\u001b[39;00m \u001b[38;5;28;01mas\u001b[39;00m e:\n\u001b[0;32m    152\u001b[0m   filtered_tb \u001b[38;5;241m=\u001b[39m _process_traceback_frames(e\u001b[38;5;241m.\u001b[39m__traceback__)\n",
      "File \u001b[1;32m~\\anaconda3\\Lib\\site-packages\\tensorflow\\python\\eager\\polymorphic_function\\polymorphic_function.py:825\u001b[0m, in \u001b[0;36mFunction.__call__\u001b[1;34m(self, *args, **kwds)\u001b[0m\n\u001b[0;32m    822\u001b[0m compiler \u001b[38;5;241m=\u001b[39m \u001b[38;5;124m\"\u001b[39m\u001b[38;5;124mxla\u001b[39m\u001b[38;5;124m\"\u001b[39m \u001b[38;5;28;01mif\u001b[39;00m \u001b[38;5;28mself\u001b[39m\u001b[38;5;241m.\u001b[39m_jit_compile \u001b[38;5;28;01melse\u001b[39;00m \u001b[38;5;124m\"\u001b[39m\u001b[38;5;124mnonXla\u001b[39m\u001b[38;5;124m\"\u001b[39m\n\u001b[0;32m    824\u001b[0m \u001b[38;5;28;01mwith\u001b[39;00m OptionalXlaContext(\u001b[38;5;28mself\u001b[39m\u001b[38;5;241m.\u001b[39m_jit_compile):\n\u001b[1;32m--> 825\u001b[0m   result \u001b[38;5;241m=\u001b[39m \u001b[38;5;28mself\u001b[39m\u001b[38;5;241m.\u001b[39m_call(\u001b[38;5;241m*\u001b[39margs, \u001b[38;5;241m*\u001b[39m\u001b[38;5;241m*\u001b[39mkwds)\n\u001b[0;32m    827\u001b[0m new_tracing_count \u001b[38;5;241m=\u001b[39m \u001b[38;5;28mself\u001b[39m\u001b[38;5;241m.\u001b[39mexperimental_get_tracing_count()\n\u001b[0;32m    828\u001b[0m without_tracing \u001b[38;5;241m=\u001b[39m (tracing_count \u001b[38;5;241m==\u001b[39m new_tracing_count)\n",
      "File \u001b[1;32m~\\anaconda3\\Lib\\site-packages\\tensorflow\\python\\eager\\polymorphic_function\\polymorphic_function.py:857\u001b[0m, in \u001b[0;36mFunction._call\u001b[1;34m(self, *args, **kwds)\u001b[0m\n\u001b[0;32m    854\u001b[0m   \u001b[38;5;28mself\u001b[39m\u001b[38;5;241m.\u001b[39m_lock\u001b[38;5;241m.\u001b[39mrelease()\n\u001b[0;32m    855\u001b[0m   \u001b[38;5;66;03m# In this case we have created variables on the first call, so we run the\u001b[39;00m\n\u001b[0;32m    856\u001b[0m   \u001b[38;5;66;03m# defunned version which is guaranteed to never create variables.\u001b[39;00m\n\u001b[1;32m--> 857\u001b[0m   \u001b[38;5;28;01mreturn\u001b[39;00m \u001b[38;5;28mself\u001b[39m\u001b[38;5;241m.\u001b[39m_no_variable_creation_fn(\u001b[38;5;241m*\u001b[39margs, \u001b[38;5;241m*\u001b[39m\u001b[38;5;241m*\u001b[39mkwds)  \u001b[38;5;66;03m# pylint: disable=not-callable\u001b[39;00m\n\u001b[0;32m    858\u001b[0m \u001b[38;5;28;01melif\u001b[39;00m \u001b[38;5;28mself\u001b[39m\u001b[38;5;241m.\u001b[39m_variable_creation_fn \u001b[38;5;129;01mis\u001b[39;00m \u001b[38;5;129;01mnot\u001b[39;00m \u001b[38;5;28;01mNone\u001b[39;00m:\n\u001b[0;32m    859\u001b[0m   \u001b[38;5;66;03m# Release the lock early so that multiple threads can perform the call\u001b[39;00m\n\u001b[0;32m    860\u001b[0m   \u001b[38;5;66;03m# in parallel.\u001b[39;00m\n\u001b[0;32m    861\u001b[0m   \u001b[38;5;28mself\u001b[39m\u001b[38;5;241m.\u001b[39m_lock\u001b[38;5;241m.\u001b[39mrelease()\n",
      "File \u001b[1;32m~\\anaconda3\\Lib\\site-packages\\tensorflow\\python\\eager\\polymorphic_function\\tracing_compiler.py:148\u001b[0m, in \u001b[0;36mTracingCompiler.__call__\u001b[1;34m(self, *args, **kwargs)\u001b[0m\n\u001b[0;32m    145\u001b[0m \u001b[38;5;28;01mwith\u001b[39;00m \u001b[38;5;28mself\u001b[39m\u001b[38;5;241m.\u001b[39m_lock:\n\u001b[0;32m    146\u001b[0m   (concrete_function,\n\u001b[0;32m    147\u001b[0m    filtered_flat_args) \u001b[38;5;241m=\u001b[39m \u001b[38;5;28mself\u001b[39m\u001b[38;5;241m.\u001b[39m_maybe_define_function(args, kwargs)\n\u001b[1;32m--> 148\u001b[0m \u001b[38;5;28;01mreturn\u001b[39;00m concrete_function\u001b[38;5;241m.\u001b[39m_call_flat(\n\u001b[0;32m    149\u001b[0m     filtered_flat_args, captured_inputs\u001b[38;5;241m=\u001b[39mconcrete_function\u001b[38;5;241m.\u001b[39mcaptured_inputs)\n",
      "File \u001b[1;32m~\\anaconda3\\Lib\\site-packages\\tensorflow\\python\\eager\\polymorphic_function\\monomorphic_function.py:1349\u001b[0m, in \u001b[0;36mConcreteFunction._call_flat\u001b[1;34m(self, args, captured_inputs)\u001b[0m\n\u001b[0;32m   1345\u001b[0m possible_gradient_type \u001b[38;5;241m=\u001b[39m gradients_util\u001b[38;5;241m.\u001b[39mPossibleTapeGradientTypes(args)\n\u001b[0;32m   1346\u001b[0m \u001b[38;5;28;01mif\u001b[39;00m (possible_gradient_type \u001b[38;5;241m==\u001b[39m gradients_util\u001b[38;5;241m.\u001b[39mPOSSIBLE_GRADIENT_TYPES_NONE\n\u001b[0;32m   1347\u001b[0m     \u001b[38;5;129;01mand\u001b[39;00m executing_eagerly):\n\u001b[0;32m   1348\u001b[0m   \u001b[38;5;66;03m# No tape is watching; skip to running the function.\u001b[39;00m\n\u001b[1;32m-> 1349\u001b[0m   \u001b[38;5;28;01mreturn\u001b[39;00m \u001b[38;5;28mself\u001b[39m\u001b[38;5;241m.\u001b[39m_build_call_outputs(\u001b[38;5;28mself\u001b[39m\u001b[38;5;241m.\u001b[39m_inference_function(\u001b[38;5;241m*\u001b[39margs))\n\u001b[0;32m   1350\u001b[0m forward_backward \u001b[38;5;241m=\u001b[39m \u001b[38;5;28mself\u001b[39m\u001b[38;5;241m.\u001b[39m_select_forward_and_backward_functions(\n\u001b[0;32m   1351\u001b[0m     args,\n\u001b[0;32m   1352\u001b[0m     possible_gradient_type,\n\u001b[0;32m   1353\u001b[0m     executing_eagerly)\n\u001b[0;32m   1354\u001b[0m forward_function, args_with_tangents \u001b[38;5;241m=\u001b[39m forward_backward\u001b[38;5;241m.\u001b[39mforward()\n",
      "File \u001b[1;32m~\\anaconda3\\Lib\\site-packages\\tensorflow\\python\\eager\\polymorphic_function\\atomic_function.py:196\u001b[0m, in \u001b[0;36mAtomicFunction.__call__\u001b[1;34m(self, *args)\u001b[0m\n\u001b[0;32m    194\u001b[0m \u001b[38;5;28;01mwith\u001b[39;00m record\u001b[38;5;241m.\u001b[39mstop_recording():\n\u001b[0;32m    195\u001b[0m   \u001b[38;5;28;01mif\u001b[39;00m \u001b[38;5;28mself\u001b[39m\u001b[38;5;241m.\u001b[39m_bound_context\u001b[38;5;241m.\u001b[39mexecuting_eagerly():\n\u001b[1;32m--> 196\u001b[0m     outputs \u001b[38;5;241m=\u001b[39m \u001b[38;5;28mself\u001b[39m\u001b[38;5;241m.\u001b[39m_bound_context\u001b[38;5;241m.\u001b[39mcall_function(\n\u001b[0;32m    197\u001b[0m         \u001b[38;5;28mself\u001b[39m\u001b[38;5;241m.\u001b[39mname,\n\u001b[0;32m    198\u001b[0m         \u001b[38;5;28mlist\u001b[39m(args),\n\u001b[0;32m    199\u001b[0m         \u001b[38;5;28mlen\u001b[39m(\u001b[38;5;28mself\u001b[39m\u001b[38;5;241m.\u001b[39mfunction_type\u001b[38;5;241m.\u001b[39mflat_outputs),\n\u001b[0;32m    200\u001b[0m     )\n\u001b[0;32m    201\u001b[0m   \u001b[38;5;28;01melse\u001b[39;00m:\n\u001b[0;32m    202\u001b[0m     outputs \u001b[38;5;241m=\u001b[39m make_call_op_in_graph(\u001b[38;5;28mself\u001b[39m, \u001b[38;5;28mlist\u001b[39m(args))\n",
      "File \u001b[1;32m~\\anaconda3\\Lib\\site-packages\\tensorflow\\python\\eager\\context.py:1457\u001b[0m, in \u001b[0;36mContext.call_function\u001b[1;34m(self, name, tensor_inputs, num_outputs)\u001b[0m\n\u001b[0;32m   1455\u001b[0m cancellation_context \u001b[38;5;241m=\u001b[39m cancellation\u001b[38;5;241m.\u001b[39mcontext()\n\u001b[0;32m   1456\u001b[0m \u001b[38;5;28;01mif\u001b[39;00m cancellation_context \u001b[38;5;129;01mis\u001b[39;00m \u001b[38;5;28;01mNone\u001b[39;00m:\n\u001b[1;32m-> 1457\u001b[0m   outputs \u001b[38;5;241m=\u001b[39m execute\u001b[38;5;241m.\u001b[39mexecute(\n\u001b[0;32m   1458\u001b[0m       name\u001b[38;5;241m.\u001b[39mdecode(\u001b[38;5;124m\"\u001b[39m\u001b[38;5;124mutf-8\u001b[39m\u001b[38;5;124m\"\u001b[39m),\n\u001b[0;32m   1459\u001b[0m       num_outputs\u001b[38;5;241m=\u001b[39mnum_outputs,\n\u001b[0;32m   1460\u001b[0m       inputs\u001b[38;5;241m=\u001b[39mtensor_inputs,\n\u001b[0;32m   1461\u001b[0m       attrs\u001b[38;5;241m=\u001b[39mattrs,\n\u001b[0;32m   1462\u001b[0m       ctx\u001b[38;5;241m=\u001b[39m\u001b[38;5;28mself\u001b[39m,\n\u001b[0;32m   1463\u001b[0m   )\n\u001b[0;32m   1464\u001b[0m \u001b[38;5;28;01melse\u001b[39;00m:\n\u001b[0;32m   1465\u001b[0m   outputs \u001b[38;5;241m=\u001b[39m execute\u001b[38;5;241m.\u001b[39mexecute_with_cancellation(\n\u001b[0;32m   1466\u001b[0m       name\u001b[38;5;241m.\u001b[39mdecode(\u001b[38;5;124m\"\u001b[39m\u001b[38;5;124mutf-8\u001b[39m\u001b[38;5;124m\"\u001b[39m),\n\u001b[0;32m   1467\u001b[0m       num_outputs\u001b[38;5;241m=\u001b[39mnum_outputs,\n\u001b[1;32m   (...)\u001b[0m\n\u001b[0;32m   1471\u001b[0m       cancellation_manager\u001b[38;5;241m=\u001b[39mcancellation_context,\n\u001b[0;32m   1472\u001b[0m   )\n",
      "File \u001b[1;32m~\\anaconda3\\Lib\\site-packages\\tensorflow\\python\\eager\\execute.py:53\u001b[0m, in \u001b[0;36mquick_execute\u001b[1;34m(op_name, num_outputs, inputs, attrs, ctx, name)\u001b[0m\n\u001b[0;32m     51\u001b[0m \u001b[38;5;28;01mtry\u001b[39;00m:\n\u001b[0;32m     52\u001b[0m   ctx\u001b[38;5;241m.\u001b[39mensure_initialized()\n\u001b[1;32m---> 53\u001b[0m   tensors \u001b[38;5;241m=\u001b[39m pywrap_tfe\u001b[38;5;241m.\u001b[39mTFE_Py_Execute(ctx\u001b[38;5;241m.\u001b[39m_handle, device_name, op_name,\n\u001b[0;32m     54\u001b[0m                                       inputs, attrs, num_outputs)\n\u001b[0;32m     55\u001b[0m \u001b[38;5;28;01mexcept\u001b[39;00m core\u001b[38;5;241m.\u001b[39m_NotOkStatusException \u001b[38;5;28;01mas\u001b[39;00m e:\n\u001b[0;32m     56\u001b[0m   \u001b[38;5;28;01mif\u001b[39;00m name \u001b[38;5;129;01mis\u001b[39;00m \u001b[38;5;129;01mnot\u001b[39;00m \u001b[38;5;28;01mNone\u001b[39;00m:\n",
      "\u001b[1;31mKeyboardInterrupt\u001b[0m: "
     ]
    }
   ],
   "source": [
    "import threading\n",
    "import multiprocessing\n",
    "import os\n",
    "\n",
    "# Function to execute in threads or processes\n",
    "def your_function():\n",
    "    pred_eval(model_1, epochs = 5000, lb_list = [11], ticker_list = symbols[:3])\n",
    "\n",
    "def run_multithreading():\n",
    "    num_threads = os.cpu_count()  # Use all available CPU cores\n",
    "    threads = []\n",
    "    for _ in range(num_threads):\n",
    "        thread = threading.Thread(target=your_function)\n",
    "        thread.start()\n",
    "        threads.append(thread)\n",
    "    for thread in threads:\n",
    "        thread.join()\n",
    "\n",
    "def run_multiprocessing():\n",
    "    num_processes = os.cpu_count()  # Use all available CPU cores\n",
    "    processes = []\n",
    "    for _ in range(num_processes):\n",
    "        process = multiprocessing.Process(target=your_function)\n",
    "        process.start()\n",
    "        processes.append(process)\n",
    "    for process in processes:\n",
    "        process.join()\n",
    "        \n",
    "your_function()"
   ]
  },
  {
   "cell_type": "code",
   "execution_count": null,
   "id": "76e41548",
   "metadata": {},
   "outputs": [],
   "source": [
    "#csv_file = df.to_csv(f\"Prediction_{present_day}.csv\",index=False)"
   ]
  },
  {
   "cell_type": "code",
   "execution_count": null,
   "id": "f8dc499f",
   "metadata": {
    "tags": []
   },
   "outputs": [],
   "source": [
    "dic = {\"Ticker\":[],\"Act\":[],\"LastPrice\":[],\"Pred1\":[],\"Pred2\":[]}\n",
    "for ticker, status, last_price, pred_1, pred_2 in zip(symbols, pred_status_list, last_price_list, pred_1_list, pred_2_list):\n",
    "    dic[\"Ticker\"].append(ticker)\n",
    "    dic[\"Act\"].append(status)\n",
    "    dic[\"LastPrice\"].append(last_price)\n",
    "    dic[\"Pred1\"].append(pred_1)\n",
    "    dic[\"Pred2\"].append(pred_2)\n",
    "df = pd.DataFrame(dic)\n",
    "display(df)\n",
    "display(df.loc[df[\"Act\"]==True])"
   ]
  },
  {
   "cell_type": "code",
   "execution_count": null,
   "id": "089f2f64",
   "metadata": {
    "scrolled": true
   },
   "outputs": [],
   "source": [
    "pred_status_list, true_status_list = [], []\n",
    "last_price_list = []\n",
    "pred_1_list, pred_2_list = [], []\n",
    "total_last_stock_price, total_pred_stock_price, total_true_stock_price = 0, 0, 0\n",
    "\n",
    "for ticker in symbols:\n",
    "    price = database[ticker]\n",
    "    status, last_price, pred1, pred2, true_price1, true_price2 = predict(price, ticker=ticker)\n",
    "    pred_status_list.append(status)\n",
    "    last_price_list.append(last_price)\n",
    "    pred_1_list.append(pred1)\n",
    "    pred_2_list.append(pred2)\n",
    "    pred_proft, true_proft = pred1 - last_price, true_price1 - last_price\n",
    "    if status:\n",
    "        total_last_stock_price += last_price\n",
    "        total_pred_stock_price += pred1\n",
    "        total_true_stock_price += true_price1\n",
    "    if true_proft > 0:\n",
    "        true_status_list.append(True)\n",
    "    if true_proft <= 0:\n",
    "        true_status_list.append(False)\n",
    "\n",
    "print('\\nPred proft %:', total_pred_stock_price / total_last_stock_price)\n",
    "print('\\nTrue proft %:', total_true_stock_price / total_last_stock_price)\n",
    "my_confusion_matrix(true_status_list, pred_status_list)"
   ]
  },
  {
   "cell_type": "code",
   "execution_count": 50,
   "id": "931813ff-f342-4497-84bc-bf5e3f5e41da",
   "metadata": {
    "tags": []
   },
   "outputs": [
    {
     "name": "stdout",
     "output_type": "stream",
     "text": [
      "MaxCrypto: BTCBRL 376520.0\n",
      "MinCrypto: SHIBBRL 0.00044702\n"
     ]
    }
   ],
   "source": [
    "max_crypto = ''\n",
    "min_crypto = ''\n",
    "max_max_value = 0\n",
    "min_max_value = 1e3\n",
    "for ticker in symbols:\n",
    "    price = database[ticker]\n",
    "    max_value = max(price)\n",
    "    if max_value > max_max_value:\n",
    "        max_max_value = max_value\n",
    "        max_crypto = ticker\n",
    "    if max_value < min_max_value:\n",
    "        min_max_value = max_value\n",
    "        min_crypto = ticker\n",
    "        \n",
    "print('MaxCrypto:', max_crypto, max_max_value)\n",
    "print('MinCrypto:', min_crypto, min_max_value)"
   ]
  }
 ],
 "metadata": {
  "kernelspec": {
   "display_name": "Python 3 (ipykernel)",
   "language": "python",
   "name": "python3"
  },
  "language_info": {
   "codemirror_mode": {
    "name": "ipython",
    "version": 3
   },
   "file_extension": ".py",
   "mimetype": "text/x-python",
   "name": "python",
   "nbconvert_exporter": "python",
   "pygments_lexer": "ipython3",
   "version": "3.11.5"
  }
 },
 "nbformat": 4,
 "nbformat_minor": 5
}
